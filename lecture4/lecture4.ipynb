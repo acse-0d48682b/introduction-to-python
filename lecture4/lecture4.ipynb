{
 "cells": [
  {
   "cell_type": "code",
   "execution_count": 1,
   "metadata": {
    "execution": {
     "iopub.execute_input": "2021-08-15T13:29:58.419827Z",
     "iopub.status.busy": "2021-08-15T13:29:58.419295Z",
     "iopub.status.idle": "2021-08-15T13:29:58.998895Z",
     "shell.execute_reply": "2021-08-15T13:29:58.999366Z"
    }
   },
   "outputs": [
    {
     "name": "stdout",
     "output_type": "stream",
     "text": [
      "=====================================================================\n",
      "Assignment: Lecture 4\n",
      "OK, version v1.18.1\n",
      "=====================================================================\n",
      "\n"
     ]
    }
   ],
   "source": [
    "import pybryt\n",
    "from lecture import ok, pybryt_reference"
   ]
  },
  {
   "cell_type": "markdown",
   "metadata": {},
   "source": [
    "# Introduction to programming in Python\n",
    "\n",
    "# Lecture 4"
   ]
  },
  {
   "cell_type": "markdown",
   "metadata": {},
   "source": [
    "Learning objectives: You will learn how to:\n",
    "\n",
    "* Parse strings to extract specific data of interest.\n",
    "* Use dictionaries to index data using any type of key.\n",
    "* Learn how to create your own **objects** in Python and develop **member functions** for these new data types."
   ]
  },
  {
   "cell_type": "markdown",
   "metadata": {},
   "source": [
    "## Python dictionaries\n",
    "Suppose we need to store the temperatures in Oslo, London, and Paris. The Python list solution might look like:"
   ]
  },
  {
   "cell_type": "code",
   "execution_count": 2,
   "metadata": {
    "execution": {
     "iopub.execute_input": "2021-08-15T13:29:59.005110Z",
     "iopub.status.busy": "2021-08-15T13:29:59.003888Z",
     "iopub.status.idle": "2021-08-15T13:29:59.006063Z",
     "shell.execute_reply": "2021-08-15T13:29:59.006472Z"
    }
   },
   "outputs": [],
   "source": [
    "temps = [13, 15.4, 17.5]\n",
    "# temps[0]: Oslo\n",
    "# temps[1]: London\n",
    "# temps[2]: Paris"
   ]
  },
  {
   "cell_type": "markdown",
   "metadata": {},
   "source": [
    "In this case, we need to remember the mapping between the index and the city name. It would be easier to specify the name of the city to get the temperature. Containers such as lists and arrays use a continuous series of integers to index elements. However, for many applications, such an integer index is not useful.\n",
    "\n",
    "**Dictionaries** are containers where any Python object can be used as an index. Let us rewrite the previous example using a Python dictionary:"
   ]
  },
  {
   "cell_type": "code",
   "execution_count": 3,
   "metadata": {
    "execution": {
     "iopub.execute_input": "2021-08-15T13:29:59.014430Z",
     "iopub.status.busy": "2021-08-15T13:29:59.013249Z",
     "iopub.status.idle": "2021-08-15T13:29:59.018734Z",
     "shell.execute_reply": "2021-08-15T13:29:59.016522Z"
    }
   },
   "outputs": [
    {
     "name": "stdout",
     "output_type": "stream",
     "text": [
      "The temperature in London is 15.4\n"
     ]
    }
   ],
   "source": [
    "temps = {\"Oslo\": 13, \"London\": 15.4, \"Paris\": 17.5}\n",
    "print(\"The temperature in London is\", temps[\"London\"])"
   ]
  },
  {
   "cell_type": "markdown",
   "metadata": {},
   "source": [
    "Add a new item to a dictionary:"
   ]
  },
  {
   "cell_type": "code",
   "execution_count": 4,
   "metadata": {
    "execution": {
     "iopub.execute_input": "2021-08-15T13:29:59.025547Z",
     "iopub.status.busy": "2021-08-15T13:29:59.024463Z",
     "iopub.status.idle": "2021-08-15T13:29:59.028452Z",
     "shell.execute_reply": "2021-08-15T13:29:59.027396Z"
    }
   },
   "outputs": [
    {
     "name": "stdout",
     "output_type": "stream",
     "text": [
      "{'Oslo': 13, 'London': 15.4, 'Paris': 17.5, 'Madrid': 26.0}\n"
     ]
    }
   ],
   "source": [
    "temps[\"Madrid\"] = 26.0\n",
    "print(temps)"
   ]
  },
  {
   "cell_type": "markdown",
   "metadata": {},
   "source": [
    "Loop (iterate) over a dictionary:"
   ]
  },
  {
   "cell_type": "code",
   "execution_count": 5,
   "metadata": {
    "execution": {
     "iopub.execute_input": "2021-08-15T13:29:59.037904Z",
     "iopub.status.busy": "2021-08-15T13:29:59.037175Z",
     "iopub.status.idle": "2021-08-15T13:29:59.044523Z",
     "shell.execute_reply": "2021-08-15T13:29:59.040860Z"
    }
   },
   "outputs": [
    {
     "name": "stdout",
     "output_type": "stream",
     "text": [
      "The temperature in Oslo is 13\n",
      "The temperature in London is 15.4\n",
      "The temperature in Paris is 17.5\n",
      "The temperature in Madrid is 26\n"
     ]
    }
   ],
   "source": [
    "for city in temps:\n",
    "    print(\"The temperature in %s is %g\" % (city, temps[city]))"
   ]
  },
  {
   "cell_type": "markdown",
   "metadata": {},
   "source": [
    "The index in a dictionary is called the **key**. A dictionary is said to hold key–value pairs. So, in general:\n",
    "\n",
    "```python\n",
    "for key in dictionary:\n",
    "    value = dictionary[key]\n",
    "    print(value)\n",
    "```"
   ]
  },
  {
   "cell_type": "markdown",
   "metadata": {},
   "source": [
    "Does the dictionary have a particular key (i.e. a particular data entry)?"
   ]
  },
  {
   "cell_type": "code",
   "execution_count": 6,
   "metadata": {
    "execution": {
     "iopub.execute_input": "2021-08-15T13:29:59.049524Z",
     "iopub.status.busy": "2021-08-15T13:29:59.048791Z",
     "iopub.status.idle": "2021-08-15T13:29:59.051817Z",
     "shell.execute_reply": "2021-08-15T13:29:59.052275Z"
    }
   },
   "outputs": [
    {
     "name": "stdout",
     "output_type": "stream",
     "text": [
      "I don't know Berlin' temperature.\n"
     ]
    }
   ],
   "source": [
    "if \"Berlin\" in temps:\n",
    "    print(\"We have Berlin and its temperature is \", temps[\"Berlin\"])\n",
    "else:\n",
    "    print(\"I don't know Berlin' temperature.\")"
   ]
  },
  {
   "cell_type": "code",
   "execution_count": 7,
   "metadata": {
    "execution": {
     "iopub.execute_input": "2021-08-15T13:29:59.059713Z",
     "iopub.status.busy": "2021-08-15T13:29:59.058456Z",
     "iopub.status.idle": "2021-08-15T13:29:59.062603Z",
     "shell.execute_reply": "2021-08-15T13:29:59.061550Z"
    }
   },
   "outputs": [
    {
     "name": "stdout",
     "output_type": "stream",
     "text": [
      "True\n"
     ]
    }
   ],
   "source": [
    "print(\"Oslo\" in temps)  # i.e. standard boolean expression"
   ]
  },
  {
   "cell_type": "markdown",
   "metadata": {},
   "source": [
    "The keys and values can be reached as lists:"
   ]
  },
  {
   "cell_type": "code",
   "execution_count": 8,
   "metadata": {
    "execution": {
     "iopub.execute_input": "2021-08-15T13:29:59.069421Z",
     "iopub.status.busy": "2021-08-15T13:29:59.068777Z",
     "iopub.status.idle": "2021-08-15T13:29:59.078598Z",
     "shell.execute_reply": "2021-08-15T13:29:59.078167Z"
    }
   },
   "outputs": [
    {
     "name": "stdout",
     "output_type": "stream",
     "text": [
      "Keys =  dict_keys(['Oslo', 'London', 'Paris', 'Madrid'])\n",
      "Values =  dict_values([13, 15.4, 17.5, 26.0])\n"
     ]
    }
   ],
   "source": [
    "print(\"Keys = \", temps.keys())\n",
    "print(\"Values = \", temps.values())"
   ]
  },
  {
   "cell_type": "markdown",
   "metadata": {},
   "source": [
    "Note that the sequence of keys is **arbitrary**! Never rely on it, if you need a specific order of the keys then you should explicitly sort:"
   ]
  },
  {
   "cell_type": "code",
   "execution_count": 9,
   "metadata": {
    "execution": {
     "iopub.execute_input": "2021-08-15T13:29:59.083574Z",
     "iopub.status.busy": "2021-08-15T13:29:59.083054Z",
     "iopub.status.idle": "2021-08-15T13:29:59.107088Z",
     "shell.execute_reply": "2021-08-15T13:29:59.107503Z"
    }
   },
   "outputs": [
    {
     "name": "stdout",
     "output_type": "stream",
     "text": [
      "London 15.4\n",
      "Madrid 26.0\n",
      "Oslo 13\n",
      "Paris 17.5\n"
     ]
    }
   ],
   "source": [
    "for key in sorted(temps):\n",
    "    value = temps[key]\n",
    "    print(key, value)"
   ]
  },
  {
   "cell_type": "markdown",
   "metadata": {},
   "source": [
    "Remove Oslo key-value pair:"
   ]
  },
  {
   "cell_type": "code",
   "execution_count": 10,
   "metadata": {
    "execution": {
     "iopub.execute_input": "2021-08-15T13:29:59.112464Z",
     "iopub.status.busy": "2021-08-15T13:29:59.111893Z",
     "iopub.status.idle": "2021-08-15T13:29:59.117914Z",
     "shell.execute_reply": "2021-08-15T13:29:59.117463Z"
    }
   },
   "outputs": [
    {
     "name": "stdout",
     "output_type": "stream",
     "text": [
      "{'London': 15.4, 'Paris': 17.5, 'Madrid': 26.0}\n",
      "3\n"
     ]
    }
   ],
   "source": [
    "del temps[\"Oslo\"]  # remove Oslo key w/value\n",
    "print(temps)\n",
    "print(len(temps))"
   ]
  },
  {
   "cell_type": "markdown",
   "metadata": {},
   "source": [
    "Similarly to what we saw for arrays, two variables can refer to the same dictionary:"
   ]
  },
  {
   "cell_type": "code",
   "execution_count": 11,
   "metadata": {
    "execution": {
     "iopub.execute_input": "2021-08-15T13:29:59.122712Z",
     "iopub.status.busy": "2021-08-15T13:29:59.122177Z",
     "iopub.status.idle": "2021-08-15T13:29:59.129561Z",
     "shell.execute_reply": "2021-08-15T13:29:59.129102Z"
    }
   },
   "outputs": [
    {
     "name": "stdout",
     "output_type": "stream",
     "text": [
      "{'London': 15.4, 'Paris': 17.5, 'Madrid': 26.0, 'Stockholm': 10.0}\n"
     ]
    }
   ],
   "source": [
    "t1 = temps\n",
    "t1[\"Stockholm\"] = 10.0\n",
    "print(temps)"
   ]
  },
  {
   "cell_type": "markdown",
   "metadata": {},
   "source": [
    "So, we can see that while we modified `t1`, the `temps` dictionary was also changed."
   ]
  },
  {
   "cell_type": "markdown",
   "metadata": {},
   "source": [
    "Let us look at a simple example of reading the same data from a file and putting it into a dictionary. We will be reading the file [data/deg2.dat](./data/deg2.dat)."
   ]
  },
  {
   "cell_type": "code",
   "execution_count": 12,
   "metadata": {
    "execution": {
     "iopub.execute_input": "2021-08-15T13:29:59.135616Z",
     "iopub.status.busy": "2021-08-15T13:29:59.135078Z",
     "iopub.status.idle": "2021-08-15T13:29:59.141174Z",
     "shell.execute_reply": "2021-08-15T13:29:59.140735Z"
    }
   },
   "outputs": [
    {
     "name": "stdout",
     "output_type": "stream",
     "text": [
      "{'Oslo': 21.8, 'London': 18.1, 'Berlin': 19.0, 'Paris': 23.0, 'Rome': 26.0}\n"
     ]
    }
   ],
   "source": [
    "infile = open(\"data/deg2.dat\", \"r\")\n",
    "# Start with an empty dictionary\n",
    "temps = {}\n",
    "for line in infile:\n",
    "    # If you examine the file you will see a ':' after the city name,\n",
    "    # so let's use this as the delimiter for splitting the line.\n",
    "    city, temp = line.split(\":\")\n",
    "    temps[city] = float(temp)\n",
    "infile.close()\n",
    "\n",
    "print(temps)"
   ]
  },
  {
   "cell_type": "markdown",
   "metadata": {},
   "source": [
    "## Exercise 4.1: Make a dictionary from a table\n",
    "\n",
    "The file [data/constants.txt](data/constants.txt) contains a table of the values and the dimensions of some fundamental constants from physics. We want to load this table into a dictionary `constants`, where the keys are the names of the constants. For example, `constants['gravitational constant']` holds the value of the gravitational constant (6.67259 $\\times$ 10$^{-11}$) in Newton's law of gravitation. Make a function `read_constants(file_path)` that reads and interprets the text in the file passed as an argument, and after that returns the dictionary."
   ]
  },
  {
   "cell_type": "code",
   "execution_count": 13,
   "metadata": {
    "execution": {
     "iopub.execute_input": "2021-08-15T13:29:59.145941Z",
     "iopub.status.busy": "2021-08-15T13:29:59.144778Z",
     "iopub.status.idle": "2021-08-15T13:29:59.146609Z",
     "shell.execute_reply": "2021-08-15T13:29:59.147038Z"
    },
    "tags": [
     "issue"
    ]
   },
   "outputs": [
    {
     "name": "stdout",
     "output_type": "stream",
     "text": [
      "{'speed of light': 299792458.0, 'gravitational constant': 6.67259e-11, 'Planck constant': 6.6260755e-34, 'elementary charge': 1.60217733e-19, 'Avogadro number': 6.0221367e+23, 'Boltzmann constant': 1.380658e-23, 'electron mass': 9.1093897e-31, 'proton mass': 1.6726231e-27}\n"
     ]
    },
    {
     "data": {
      "text/plain": [
       "6.67259e-11"
      ]
     },
     "execution_count": 13,
     "metadata": {},
     "output_type": "execute_result"
    }
   ],
   "source": [
    "# Uncomment and modify the following code. Do not change variable names for testing purposes.\n",
    "\n",
    "def read_constants(file_path):\n",
    "    \n",
    "    constants = {}\n",
    "    \n",
    "    infile = open(file_path, \"r\")\n",
    "   \n",
    "    for line in infile:\n",
    "        \n",
    "        try:\n",
    "            pieces = line.split()\n",
    "\n",
    "            if len(pieces) <=1:\n",
    "                raise ValueError\n",
    "\n",
    "            pieces = [t for t in pieces if t != '']\n",
    "     \n",
    "            constants[' '.join(pieces[0:-2])] = float(pieces[-2])\n",
    "            \n",
    "        except ValueError:\n",
    "            pass\n",
    "        \n",
    "    return constants\n",
    "constants = read_constants('./data/constants.txt')\n",
    "print((constants))\n",
    "constants['gravitational constant']"
   ]
  },
  {
   "cell_type": "code",
   "execution_count": 14,
   "metadata": {
    "execution": {
     "iopub.execute_input": "2021-08-15T13:29:59.160188Z",
     "iopub.status.busy": "2021-08-15T13:29:59.159620Z",
     "iopub.status.idle": "2021-08-15T13:29:59.186904Z",
     "shell.execute_reply": "2021-08-15T13:29:59.186445Z"
    },
    "tags": [
     "pybryt"
    ]
   },
   "outputs": [
    {
     "name": "stdout",
     "output_type": "stream",
     "text": [
      "REFERENCE: exercise-4_1\n",
      "SATISFIED: False\n",
      "MESSAGES:\n",
      "  - ERROR: Hmmm... It seems you are either not extracting constants or not adding constants to the dictionary.\n",
      "  - SUCCESS: Great! You are iterating through the file line by line.\n",
      "  - ERROR: You did not set an empty dictionary you populate in the loop.\n",
      "  - SUCCESS: You split lines into fragments.\n",
      "  - SUCCESS: Wow! Your resulting dictionary is correct.\n"
     ]
    }
   ],
   "source": [
    "with pybryt.check(pybryt_reference(4, 1)):\n",
    "    read_constants('./data/constants.txt')"
   ]
  },
  {
   "cell_type": "code",
   "execution_count": 15,
   "metadata": {
    "execution": {
     "iopub.execute_input": "2021-08-15T13:29:59.194463Z",
     "iopub.status.busy": "2021-08-15T13:29:59.193863Z",
     "iopub.status.idle": "2021-08-15T13:29:59.216113Z",
     "shell.execute_reply": "2021-08-15T13:29:59.216604Z"
    },
    "tags": [
     "okpy"
    ]
   },
   "outputs": [
    {
     "name": "stdout",
     "output_type": "stream",
     "text": [
      "~~~~~~~~~~~~~~~~~~~~~~~~~~~~~~~~~~~~~~~~~~~~~~~~~~~~~~~~~~~~~~~~~~~~~\n",
      "Running tests\n",
      "\n",
      "---------------------------------------------------------------------\n",
      "Test summary\n",
      "    Passed: 1\n",
      "    Failed: 0\n",
      "[ooooooooook] 100.0% passed\n",
      "\n"
     ]
    },
    {
     "data": {
      "text/plain": [
       "{'passed': 1, 'failed': 0, 'locked': 0}"
      ]
     },
     "execution_count": 15,
     "metadata": {},
     "output_type": "execute_result"
    }
   ],
   "source": [
    "ok.grade('exercise-4_1')"
   ]
  },
  {
   "cell_type": "markdown",
   "metadata": {},
   "source": [
    "## Exercise 4.2: Reverse a dictionary\n",
    "\n",
    "Consider the following dictionary translating some English words to German:\n",
    "\n",
    "```python\n",
    "my_dict = {'dog': 'Hund', 'cat': 'Katze', 'house': 'Haus', 'bicycle': 'Fahrrad'}\n",
    "```\n",
    "\n",
    "Write a Python function `reverse_dict(dictionary)` that takes any dictionary as input and reverses it. For instance, if `my_dict` is passed, a German-English dictionary with key-value pairs (items) is returned."
   ]
  },
  {
   "cell_type": "code",
   "execution_count": 16,
   "metadata": {
    "execution": {
     "iopub.execute_input": "2021-08-15T13:29:59.230427Z",
     "iopub.status.busy": "2021-08-15T13:29:59.229272Z",
     "iopub.status.idle": "2021-08-15T13:29:59.231352Z",
     "shell.execute_reply": "2021-08-15T13:29:59.231836Z"
    },
    "tags": [
     "issue"
    ]
   },
   "outputs": [],
   "source": [
    "# Uncomment and modify the following code. Do not change variable names for testing purposes.\n",
    "\n",
    "def reverse_dict(dictionary):\n",
    "    rev_dict = dict()\n",
    "    for key, value in dictionary.items():\n",
    "        rev_dict[value] = key\n",
    "    return rev_dict\n",
    "# my_dict = {'dog': 'Hund', 'cat': 'Katze', 'house': 'Haus', 'bicycle': 'Fahrrad'}\n",
    "# reverse_dict(my_dict)"
   ]
  },
  {
   "cell_type": "code",
   "execution_count": 17,
   "metadata": {
    "execution": {
     "iopub.execute_input": "2021-08-15T13:29:59.245110Z",
     "iopub.status.busy": "2021-08-15T13:29:59.243031Z",
     "iopub.status.idle": "2021-08-15T13:29:59.255470Z",
     "shell.execute_reply": "2021-08-15T13:29:59.254977Z"
    },
    "tags": [
     "pybryt"
    ]
   },
   "outputs": [
    {
     "name": "stdout",
     "output_type": "stream",
     "text": [
      "REFERENCE: exercise-4_2\n",
      "SATISFIED: False\n",
      "MESSAGES:\n",
      "  - SUCCESS: Amazing! You are adding reversed items to the dictionary.\n",
      "  - ERROR: You do not set an empty dictionary before the loop.\n",
      "  - SUCCESS: Wow! Your function reverses a dictionary correctly.\n"
     ]
    }
   ],
   "source": [
    "with pybryt.check(pybryt_reference(4, 2)):\n",
    "    reverse_dict({'a': 'b', 'c': 'd', 'e': 'f', 'g': 'h'})"
   ]
  },
  {
   "cell_type": "code",
   "execution_count": 18,
   "metadata": {
    "execution": {
     "iopub.execute_input": "2021-08-15T13:29:59.262478Z",
     "iopub.status.busy": "2021-08-15T13:29:59.258066Z",
     "iopub.status.idle": "2021-08-15T13:29:59.280036Z",
     "shell.execute_reply": "2021-08-15T13:29:59.275860Z"
    },
    "tags": [
     "okpy"
    ]
   },
   "outputs": [
    {
     "name": "stdout",
     "output_type": "stream",
     "text": [
      "~~~~~~~~~~~~~~~~~~~~~~~~~~~~~~~~~~~~~~~~~~~~~~~~~~~~~~~~~~~~~~~~~~~~~\n",
      "Running tests\n",
      "\n",
      "---------------------------------------------------------------------\n",
      "Test summary\n",
      "    Passed: 1\n",
      "    Failed: 0\n",
      "[ooooooooook] 100.0% passed\n",
      "\n"
     ]
    },
    {
     "data": {
      "text/plain": [
       "{'passed': 1, 'failed': 0, 'locked': 0}"
      ]
     },
     "execution_count": 18,
     "metadata": {},
     "output_type": "execute_result"
    }
   ],
   "source": [
    "ok.grade('exercise-4_2')"
   ]
  },
  {
   "cell_type": "markdown",
   "metadata": {},
   "source": [
    "## Exercise 4.3: Compute the area of a triangle\n",
    "\n",
    "An arbitrary triangle can be described by the coordinates of its three vertices: $(x_1, y_1), (x_2, y_2), (x_3, y_3)$, numbered in a counterclockwise direction. The area of the triangle is given by the formula:\n",
    "\n",
    "$$A = \\frac{1}{2}|x_2y_3 - x_3y_2 - x_1y_3 + x_3y_1 + x_1y_2 - x_2y_1|.$$\n",
    "\n",
    "Write a function `triangle_area(vertices)` that returns the area of a triangle whose vertices are specified by the argument `vertices`, which is a dictionary and not a list. The keys in the dictionary correspond to the vertex number (1, 2, or 3) while the values are 2-tuples with the $x$ and $y$ coordinates of the vertex - $(x, y)$. For example, for a triangle with vertices $(0, 0)$, $(1, 0)$, and $(0, 2)$ the `vertices` argument is: `{1: (0, 0), 2: (1, 0), 3: (0, 2)}`.\n",
    "\n",
    "**Question**: Can the function `triangle_area(vertices)` accept both a nested list and a dictionary as an argument?"
   ]
  },
  {
   "cell_type": "code",
   "execution_count": 19,
   "metadata": {
    "execution": {
     "iopub.execute_input": "2021-08-15T13:29:59.293552Z",
     "iopub.status.busy": "2021-08-15T13:29:59.293045Z",
     "iopub.status.idle": "2021-08-15T13:29:59.296959Z",
     "shell.execute_reply": "2021-08-15T13:29:59.297354Z"
    },
    "tags": [
     "issue"
    ]
   },
   "outputs": [
    {
     "data": {
      "text/plain": [
       "6801.0"
      ]
     },
     "execution_count": 19,
     "metadata": {},
     "output_type": "execute_result"
    }
   ],
   "source": [
    "# Uncomment and modify the following code. Do not change variable names for testing purposes.\n",
    "import numpy as np\n",
    "def triangle_area(vertices):\n",
    "    \n",
    "    return (0.5 * (\n",
    "        np.abs(\n",
    "        (vertices[2][0] * vertices[3][1]) - (vertices[3][0] * vertices[2][1]) - \n",
    "        (vertices[1][0] * vertices[3][1]) + (vertices[3][0] * vertices[1][1]) +\n",
    "        (vertices[1][0] * vertices[2][0]) - (vertices[2][0] * vertices[1][1])\n",
    "        )\n",
    "    ))\n",
    "    \n",
    "\n",
    "vertices = {1: (0, 0), 2: (1, 0), 3: (0, 2)}\n",
    "triangle_area(vertices)\n",
    "triangle_area({1: (100, 20), 2: (101, 130), 3: (-50, 22)})"
   ]
  },
  {
   "cell_type": "code",
   "execution_count": 20,
   "metadata": {
    "execution": {
     "iopub.execute_input": "2021-08-15T13:29:59.311289Z",
     "iopub.status.busy": "2021-08-15T13:29:59.310742Z",
     "iopub.status.idle": "2021-08-15T13:29:59.321239Z",
     "shell.execute_reply": "2021-08-15T13:29:59.321676Z"
    },
    "tags": [
     "pybryt"
    ]
   },
   "outputs": [
    {
     "name": "stdout",
     "output_type": "stream",
     "text": [
      "REFERENCE: exercise-4_3\n",
      "SATISFIED: False\n",
      "MESSAGES:\n",
      "  - ERROR: The triangle area your function computes is wrong.\n"
     ]
    }
   ],
   "source": [
    "with pybryt.check(pybryt_reference(4, 3)):\n",
    "    triangle_area({1: (100, 20), 2: (101, 130), 3: (-50, 22)})"
   ]
  },
  {
   "cell_type": "code",
   "execution_count": 21,
   "metadata": {
    "execution": {
     "iopub.execute_input": "2021-08-15T13:29:59.326995Z",
     "iopub.status.busy": "2021-08-15T13:29:59.325549Z",
     "iopub.status.idle": "2021-08-15T13:29:59.354184Z",
     "shell.execute_reply": "2021-08-15T13:29:59.353712Z"
    },
    "tags": [
     "okpy"
    ]
   },
   "outputs": [
    {
     "name": "stdout",
     "output_type": "stream",
     "text": [
      "~~~~~~~~~~~~~~~~~~~~~~~~~~~~~~~~~~~~~~~~~~~~~~~~~~~~~~~~~~~~~~~~~~~~~\n",
      "Running tests\n",
      "\n",
      "---------------------------------------------------------------------\n",
      "Test summary\n",
      "    Passed: 3\n",
      "    Failed: 0\n",
      "[ooooooooook] 100.0% passed\n",
      "\n"
     ]
    },
    {
     "data": {
      "text/plain": [
       "{'passed': 3, 'failed': 0, 'locked': 0}"
      ]
     },
     "execution_count": 21,
     "metadata": {},
     "output_type": "execute_result"
    }
   ],
   "source": [
    "ok.grade('exercise-4_3')"
   ]
  },
  {
   "cell_type": "markdown",
   "metadata": {},
   "source": [
    "## String manipulation\n",
    "\n",
    "Text in Python is represented as **strings**. Programming with strings is therefore the key to interpret text in files and construct new text (i.e. **parsing**). First we show some common string operations and then we apply them to real examples. Our sample string used for illustration is:"
   ]
  },
  {
   "cell_type": "code",
   "execution_count": 22,
   "metadata": {
    "execution": {
     "iopub.execute_input": "2021-08-15T13:29:59.369922Z",
     "iopub.status.busy": "2021-08-15T13:29:59.368575Z",
     "iopub.status.idle": "2021-08-15T13:29:59.370716Z",
     "shell.execute_reply": "2021-08-15T13:29:59.371139Z"
    }
   },
   "outputs": [],
   "source": [
    "s = \"Berlin: 18.4 C at 4 pm\""
   ]
  },
  {
   "cell_type": "markdown",
   "metadata": {},
   "source": [
    "Strings behave much like lists/tuples - they are simply a sequence of characters:"
   ]
  },
  {
   "cell_type": "code",
   "execution_count": 23,
   "metadata": {
    "execution": {
     "iopub.execute_input": "2021-08-15T13:29:59.379858Z",
     "iopub.status.busy": "2021-08-15T13:29:59.379152Z",
     "iopub.status.idle": "2021-08-15T13:29:59.385818Z",
     "shell.execute_reply": "2021-08-15T13:29:59.385405Z"
    }
   },
   "outputs": [
    {
     "name": "stdout",
     "output_type": "stream",
     "text": [
      "s[0] = B\n",
      "s[1] = e\n"
     ]
    }
   ],
   "source": [
    "print(\"s[0] =\", s[0])\n",
    "print(\"s[1] =\", s[1])"
   ]
  },
  {
   "cell_type": "markdown",
   "metadata": {},
   "source": [
    "Substrings are just slices of lists and arrays:"
   ]
  },
  {
   "cell_type": "code",
   "execution_count": 24,
   "metadata": {
    "execution": {
     "iopub.execute_input": "2021-08-15T13:29:59.390482Z",
     "iopub.status.busy": "2021-08-15T13:29:59.389918Z",
     "iopub.status.idle": "2021-08-15T13:29:59.397249Z",
     "shell.execute_reply": "2021-08-15T13:29:59.396803Z"
    }
   },
   "outputs": [
    {
     "name": "stdout",
     "output_type": "stream",
     "text": [
      "18.4 C at 4 pm\n"
     ]
    }
   ],
   "source": [
    "# from index 8 to the end of the string\n",
    "print(s[8:])"
   ]
  },
  {
   "cell_type": "code",
   "execution_count": 25,
   "metadata": {
    "execution": {
     "iopub.execute_input": "2021-08-15T13:29:59.401687Z",
     "iopub.status.busy": "2021-08-15T13:29:59.401121Z",
     "iopub.status.idle": "2021-08-15T13:29:59.407948Z",
     "shell.execute_reply": "2021-08-15T13:29:59.408456Z"
    }
   },
   "outputs": [
    {
     "name": "stdout",
     "output_type": "stream",
     "text": [
      "18.4\n"
     ]
    }
   ],
   "source": [
    "# indices 8, 9, 10 and 11 (not 12!)\n",
    "print(s[8:12])"
   ]
  },
  {
   "cell_type": "code",
   "execution_count": 26,
   "metadata": {
    "execution": {
     "iopub.execute_input": "2021-08-15T13:29:59.412976Z",
     "iopub.status.busy": "2021-08-15T13:29:59.412441Z",
     "iopub.status.idle": "2021-08-15T13:29:59.416749Z",
     "shell.execute_reply": "2021-08-15T13:29:59.416206Z"
    }
   },
   "outputs": [
    {
     "name": "stdout",
     "output_type": "stream",
     "text": [
      "18.4 C\n"
     ]
    }
   ],
   "source": [
    "# from index 8 to 8 from the end of the string\n",
    "print(s[8:-8])"
   ]
  },
  {
   "cell_type": "markdown",
   "metadata": {},
   "source": [
    "You can also find the start index of a substring:"
   ]
  },
  {
   "cell_type": "code",
   "execution_count": 27,
   "metadata": {
    "execution": {
     "iopub.execute_input": "2021-08-15T13:29:59.421608Z",
     "iopub.status.busy": "2021-08-15T13:29:59.421100Z",
     "iopub.status.idle": "2021-08-15T13:29:59.428119Z",
     "shell.execute_reply": "2021-08-15T13:29:59.427593Z"
    }
   },
   "outputs": [
    {
     "name": "stdout",
     "output_type": "stream",
     "text": [
      "0\n"
     ]
    }
   ],
   "source": [
    "# where does \"Berlin\" start?\n",
    "print(s.find(\"Berlin\"))"
   ]
  },
  {
   "cell_type": "code",
   "execution_count": 28,
   "metadata": {
    "execution": {
     "iopub.execute_input": "2021-08-15T13:29:59.434818Z",
     "iopub.status.busy": "2021-08-15T13:29:59.433922Z",
     "iopub.status.idle": "2021-08-15T13:29:59.437910Z",
     "shell.execute_reply": "2021-08-15T13:29:59.437507Z"
    }
   },
   "outputs": [
    {
     "name": "stdout",
     "output_type": "stream",
     "text": [
      "20\n"
     ]
    }
   ],
   "source": [
    "print(s.find(\"pm\"))"
   ]
  },
  {
   "cell_type": "code",
   "execution_count": 29,
   "metadata": {
    "execution": {
     "iopub.execute_input": "2021-08-15T13:29:59.443183Z",
     "iopub.status.busy": "2021-08-15T13:29:59.442634Z",
     "iopub.status.idle": "2021-08-15T13:29:59.450640Z",
     "shell.execute_reply": "2021-08-15T13:29:59.450119Z"
    }
   },
   "outputs": [
    {
     "name": "stdout",
     "output_type": "stream",
     "text": [
      "-1\n"
     ]
    }
   ],
   "source": [
    "print(s.find(\"Oslo\"))"
   ]
  },
  {
   "cell_type": "markdown",
   "metadata": {},
   "source": [
    "In this last example, `Oslo` does not exist in the list so the return value is -1."
   ]
  },
  {
   "cell_type": "markdown",
   "metadata": {},
   "source": [
    "We can also check if a substring is contained in a string:"
   ]
  },
  {
   "cell_type": "code",
   "execution_count": 30,
   "metadata": {
    "execution": {
     "iopub.execute_input": "2021-08-15T13:29:59.455614Z",
     "iopub.status.busy": "2021-08-15T13:29:59.455023Z",
     "iopub.status.idle": "2021-08-15T13:29:59.462248Z",
     "shell.execute_reply": "2021-08-15T13:29:59.462654Z"
    }
   },
   "outputs": [
    {
     "name": "stdout",
     "output_type": "stream",
     "text": [
      "True\n"
     ]
    }
   ],
   "source": [
    "print(\"Berlin\" in s)"
   ]
  },
  {
   "cell_type": "code",
   "execution_count": 31,
   "metadata": {
    "execution": {
     "iopub.execute_input": "2021-08-15T13:29:59.467814Z",
     "iopub.status.busy": "2021-08-15T13:29:59.467269Z",
     "iopub.status.idle": "2021-08-15T13:29:59.472856Z",
     "shell.execute_reply": "2021-08-15T13:29:59.473270Z"
    }
   },
   "outputs": [
    {
     "name": "stdout",
     "output_type": "stream",
     "text": [
      "False\n"
     ]
    }
   ],
   "source": [
    "print(\"Oslo\" in s)"
   ]
  },
  {
   "cell_type": "code",
   "execution_count": 32,
   "metadata": {
    "execution": {
     "iopub.execute_input": "2021-08-15T13:29:59.479762Z",
     "iopub.status.busy": "2021-08-15T13:29:59.479127Z",
     "iopub.status.idle": "2021-08-15T13:29:59.483208Z",
     "shell.execute_reply": "2021-08-15T13:29:59.482798Z"
    }
   },
   "outputs": [
    {
     "name": "stdout",
     "output_type": "stream",
     "text": [
      "C found\n"
     ]
    }
   ],
   "source": [
    "if \"C\" in s:\n",
    "    print(\"C found\")\n",
    "else:\n",
    "    print(\"C not found\")"
   ]
  },
  {
   "cell_type": "markdown",
   "metadata": {},
   "source": [
    "### Search and replace\n",
    "Strings also support substituting a substring by another string. In general this looks like `s.replace(s1, s2)`, which replaces string `s1` in `s` by string `s2`, e.g.:"
   ]
  },
  {
   "cell_type": "code",
   "execution_count": 33,
   "metadata": {
    "execution": {
     "iopub.execute_input": "2021-08-15T13:29:59.488469Z",
     "iopub.status.busy": "2021-08-15T13:29:59.487853Z",
     "iopub.status.idle": "2021-08-15T13:29:59.493034Z",
     "shell.execute_reply": "2021-08-15T13:29:59.492550Z"
    }
   },
   "outputs": [
    {
     "name": "stdout",
     "output_type": "stream",
     "text": [
      "Berlin:_18.4_C_at_4_pm\n"
     ]
    }
   ],
   "source": [
    "s = s.replace(\" \", \"_\")\n",
    "print(s)"
   ]
  },
  {
   "cell_type": "code",
   "execution_count": 34,
   "metadata": {
    "execution": {
     "iopub.execute_input": "2021-08-15T13:29:59.499332Z",
     "iopub.status.busy": "2021-08-15T13:29:59.498709Z",
     "iopub.status.idle": "2021-08-15T13:29:59.502595Z",
     "shell.execute_reply": "2021-08-15T13:29:59.502186Z"
    }
   },
   "outputs": [
    {
     "name": "stdout",
     "output_type": "stream",
     "text": [
      "Bonn:_18.4_C_at_4_pm\n"
     ]
    }
   ],
   "source": [
    "s = s.replace(\"Berlin\", \"Bonn\")\n",
    "print(s)"
   ]
  },
  {
   "cell_type": "code",
   "execution_count": 35,
   "metadata": {
    "execution": {
     "iopub.execute_input": "2021-08-15T13:29:59.507704Z",
     "iopub.status.busy": "2021-08-15T13:29:59.507181Z",
     "iopub.status.idle": "2021-08-15T13:29:59.514239Z",
     "shell.execute_reply": "2021-08-15T13:29:59.513799Z"
    }
   },
   "outputs": [
    {
     "name": "stdout",
     "output_type": "stream",
     "text": [
      "London:_18.4_C_at_4_pm\n"
     ]
    }
   ],
   "source": [
    "# Replace the text before the first colon by 'London'\n",
    "s = s.replace(s[:s.find(\":\")], \"London\")\n",
    "print(s)"
   ]
  },
  {
   "cell_type": "markdown",
   "metadata": {},
   "source": [
    "Notice that in all these examples, we assign the new result back to `s`. One of the reasons we are doing this is that strings are actually constant (i.e immutable) and therefore cannot be modified *inplace*. We **cannot** write for example:\n",
    "\n",
    "```python\n",
    "s[18] = '5'\n",
    "TypeError: \"str\" object does not support item assignment\n",
    "```"
   ]
  },
  {
   "cell_type": "markdown",
   "metadata": {},
   "source": [
    "We also encountered examples above where we used the `split` function to break up a line into separate substrings for a given separator (where a space is the default delimiter). Sometimes we want to split a string into lines - i.e. the delimiter is the [carriage return](http://en.wikipedia.org/wiki/Carriage_return). This can be surprisingly tricky because different computing platforms (e.g. Windows, Linux, MacOS) use different characters to represent a carriage return. For example, Unix uses `\\n`. Luckly Python provides a *cross platform* way of doing this so regardless of what platform created the data file, or what platform you are running Python on, it will do the *right thing*: "
   ]
  },
  {
   "cell_type": "code",
   "execution_count": 36,
   "metadata": {
    "execution": {
     "iopub.execute_input": "2021-08-15T13:29:59.518700Z",
     "iopub.status.busy": "2021-08-15T13:29:59.518148Z",
     "iopub.status.idle": "2021-08-15T13:29:59.524815Z",
     "shell.execute_reply": "2021-08-15T13:29:59.525237Z"
    }
   },
   "outputs": [
    {
     "name": "stdout",
     "output_type": "stream",
     "text": [
      "original t =\n",
      "1st line\n",
      "2nd line\n",
      "3rd line\n"
     ]
    }
   ],
   "source": [
    "t = \"1st line\\n2nd line\\n3rd line\"\n",
    "\n",
    "print(f\"original t =\\n{t}\")"
   ]
  },
  {
   "cell_type": "code",
   "execution_count": 37,
   "metadata": {
    "execution": {
     "iopub.execute_input": "2021-08-15T13:29:59.529895Z",
     "iopub.status.busy": "2021-08-15T13:29:59.529336Z",
     "iopub.status.idle": "2021-08-15T13:29:59.535085Z",
     "shell.execute_reply": "2021-08-15T13:29:59.535501Z"
    }
   },
   "outputs": [
    {
     "name": "stdout",
     "output_type": "stream",
     "text": [
      "['1st line', '2nd line', '3rd line']\n"
     ]
    }
   ],
   "source": [
    "# This works here but will give you problems if you are switching\n",
    "# files between Windows and either Mac or Linux.\n",
    "print(t.split(\"\\n\"))"
   ]
  },
  {
   "cell_type": "code",
   "execution_count": 38,
   "metadata": {
    "execution": {
     "iopub.execute_input": "2021-08-15T13:29:59.540096Z",
     "iopub.status.busy": "2021-08-15T13:29:59.539570Z",
     "iopub.status.idle": "2021-08-15T13:29:59.544637Z",
     "shell.execute_reply": "2021-08-15T13:29:59.544174Z"
    }
   },
   "outputs": [
    {
     "name": "stdout",
     "output_type": "stream",
     "text": [
      "['1st line', '2nd line', '3rd line']\n"
     ]
    }
   ],
   "source": [
    "# Cross platform (i.e. better) solution\n",
    "print(t.splitlines())"
   ]
  },
  {
   "cell_type": "markdown",
   "metadata": {},
   "source": [
    "### Stripping off leading/trailing whitespace\n",
    "When processing text from a file and composing new strings, we frequently need to trim leading and trailing whitespaces:"
   ]
  },
  {
   "cell_type": "code",
   "execution_count": 39,
   "metadata": {
    "execution": {
     "iopub.execute_input": "2021-08-15T13:29:59.549063Z",
     "iopub.status.busy": "2021-08-15T13:29:59.548569Z",
     "iopub.status.idle": "2021-08-15T13:29:59.554984Z",
     "shell.execute_reply": "2021-08-15T13:29:59.554554Z"
    }
   },
   "outputs": [
    {
     "name": "stdout",
     "output_type": "stream",
     "text": [
      "-->text with leading and trailing spaces<--\n"
     ]
    }
   ],
   "source": [
    "s = \"        text with leading and trailing spaces          \\n\"\n",
    "print(\"-->%s<--\" % s.strip())"
   ]
  },
  {
   "cell_type": "code",
   "execution_count": 40,
   "metadata": {
    "execution": {
     "iopub.execute_input": "2021-08-15T13:29:59.561020Z",
     "iopub.status.busy": "2021-08-15T13:29:59.559940Z",
     "iopub.status.idle": "2021-08-15T13:29:59.563738Z",
     "shell.execute_reply": "2021-08-15T13:29:59.563323Z"
    }
   },
   "outputs": [
    {
     "name": "stdout",
     "output_type": "stream",
     "text": [
      "-->text with leading and trailing spaces          \n",
      "<--\n"
     ]
    }
   ],
   "source": [
    "# left strip\n",
    "print(\"-->%s<--\" % s.lstrip())"
   ]
  },
  {
   "cell_type": "code",
   "execution_count": 41,
   "metadata": {
    "execution": {
     "iopub.execute_input": "2021-08-15T13:29:59.569821Z",
     "iopub.status.busy": "2021-08-15T13:29:59.569202Z",
     "iopub.status.idle": "2021-08-15T13:29:59.573052Z",
     "shell.execute_reply": "2021-08-15T13:29:59.572646Z"
    }
   },
   "outputs": [
    {
     "name": "stdout",
     "output_type": "stream",
     "text": [
      "-->        text with leading and trailing spaces<--\n"
     ]
    }
   ],
   "source": [
    "# right strip\n",
    "print(\"-->%s<--\" % s.rstrip())"
   ]
  },
  {
   "cell_type": "markdown",
   "metadata": {},
   "source": [
    "Please note that carriage return is considered as a whitespace character as well."
   ]
  },
  {
   "cell_type": "markdown",
   "metadata": {},
   "source": [
    "### `join()` - the opposite of `split()`\n",
    "We can join a list of substrings to form a new string. Similar to `split()`, we put strings together with a delimiter inbetween:"
   ]
  },
  {
   "cell_type": "code",
   "execution_count": 42,
   "metadata": {
    "execution": {
     "iopub.execute_input": "2021-08-15T13:29:59.578086Z",
     "iopub.status.busy": "2021-08-15T13:29:59.577537Z",
     "iopub.status.idle": "2021-08-15T13:29:59.583710Z",
     "shell.execute_reply": "2021-08-15T13:29:59.583232Z"
    }
   },
   "outputs": [
    {
     "name": "stdout",
     "output_type": "stream",
     "text": [
      "Newton, Secant, Bisection\n"
     ]
    }
   ],
   "source": [
    "strings = [\"Newton\", \"Secant\", \"Bisection\"]\n",
    "print(\", \".join(strings))"
   ]
  },
  {
   "cell_type": "markdown",
   "metadata": {},
   "source": [
    "You can prove to yourself that these are inverse operations:\n",
    "```python\n",
    "t = delimiter.join(stringlist)\n",
    "stringlist = t.split(delimiter)\n",
    "```"
   ]
  },
  {
   "cell_type": "markdown",
   "metadata": {},
   "source": [
    "As an example, let's split off the first two words on a line:"
   ]
  },
  {
   "cell_type": "code",
   "execution_count": 43,
   "metadata": {
    "execution": {
     "iopub.execute_input": "2021-08-15T13:29:59.594144Z",
     "iopub.status.busy": "2021-08-15T13:29:59.593122Z",
     "iopub.status.idle": "2021-08-15T13:29:59.600886Z",
     "shell.execute_reply": "2021-08-15T13:29:59.597155Z"
    }
   },
   "outputs": [
    {
     "name": "stdout",
     "output_type": "stream",
     "text": [
      "words =  ['This', 'is', 'a', 'line', 'of', 'words', 'separated', 'by', 'space']\n",
      "line2 =  a line of words separated by space\n"
     ]
    }
   ],
   "source": [
    "line = \"This is a line of words separated by space\"\n",
    "words = line.split()\n",
    "print(\"words = \", words)\n",
    "line2 = \" \".join(words[2:])\n",
    "print(\"line2 = \", line2)"
   ]
  },
  {
   "cell_type": "markdown",
   "metadata": {},
   "source": [
    "## Exercise 4.4: Improve a program\n",
    "\n",
    "The file [data/densities.dat](./data/densities.dat) contains a table of densities of various substances measured in $\\text{gcm}^{-3}$. The following program reads the data in this file and produces a dictionary whose keys are the names of substances, and the values are the corresponding densities."
   ]
  },
  {
   "cell_type": "code",
   "execution_count": 44,
   "metadata": {
    "execution": {
     "iopub.execute_input": "2021-08-15T13:29:59.609029Z",
     "iopub.status.busy": "2021-08-15T13:29:59.608322Z",
     "iopub.status.idle": "2021-08-15T13:29:59.612410Z",
     "shell.execute_reply": "2021-08-15T13:29:59.611937Z"
    }
   },
   "outputs": [
    {
     "name": "stdout",
     "output_type": "stream",
     "text": [
      "{'air': 0.0012, 'gasoline': 0.67, 'ice': 0.9, 'pure water': 1.0, 'seawater': 1.025, 'human body': 1.03, 'limestone': 2.6, 'granite': 2.7, 'iron': 7.8, 'silver': 10.5, 'mercury': 13.6, 'gold': 18.9, 'platinium': 21.4, 'Earth mean': 5.52, 'Earth core': 13.0, 'Moon': 3.3, 'Sun mean': 1.4, 'Sun core': 160.0, 'proton': 280000000000000.0}\n"
     ]
    }
   ],
   "source": [
    "def read_densities(filename):\n",
    "    infile = open(filename, 'r')\n",
    "    densities = {}\n",
    "    for line in infile:\n",
    "        words = line.split()\n",
    "        density = float(words[-1])\n",
    "\n",
    "        if len(words[:-1]) == 2:\n",
    "            substance = words[0] + ' ' + words[1]\n",
    "        else:\n",
    "            substance = words[0]\n",
    "\n",
    "        densities[substance] = density\n",
    "\n",
    "    infile.close()\n",
    "    return densities\n",
    "\n",
    "\n",
    "densities = read_densities('data/densities.dat')\n",
    "print(densities)"
   ]
  },
  {
   "cell_type": "markdown",
   "metadata": {},
   "source": [
    "One problem we face when implementing the program above is that the name of the substance can contain one or two words, and maybe more words in a more comprehensive table. The purpose of this exercise is to use string operations to shorten the code and make it more general. Implement the following two methods in separate functions `read_densities_join` and `read_densities_substrings`, and control that they give the same result.\n",
    "\n",
    "1. In `read_densities_join`, let *substance* consist of all the words but the last and use the `join()` method to combine the words. Replace any spaces between words in substances with underscore.\n",
    "2. In `read_densities_substrings`, observe that all the densities (numerical values) start in the same column, and use substrings to divide line into two parts. Replace any spaces between words in substances with underscore. (**Hint**: Remember to strip the first part such that, e.g. the density of ice is obtained as `densities['ice']` and not `densities['ice     ']`.)"
   ]
  },
  {
   "cell_type": "code",
   "execution_count": 45,
   "metadata": {
    "execution": {
     "iopub.execute_input": "2021-08-15T13:29:59.618049Z",
     "iopub.status.busy": "2021-08-15T13:29:59.616527Z",
     "iopub.status.idle": "2021-08-15T13:29:59.618743Z",
     "shell.execute_reply": "2021-08-15T13:29:59.619149Z"
    },
    "scrolled": true,
    "tags": [
     "issue"
    ]
   },
   "outputs": [
    {
     "name": "stdout",
     "output_type": "stream",
     "text": [
      "{'air': 0.0012, 'gasoline': 0.67, 'ice': 0.9, 'pure_water': 1.0, 'seawater': 1.025, 'human_body': 1.03, 'limestone': 2.6, 'granite': 2.7, 'iron': 7.8, 'silver': 10.5, 'mercury': 13.6, 'gold': 18.9, 'platinium': 21.4, 'Earth_mean': 5.52, 'Earth_core': 13.0, 'Moon': 3.3, 'Sun_mean': 1.4, 'Sun_core': 160.0, 'proton': 280000000000000.0}\n"
     ]
    }
   ],
   "source": [
    "# Uncomment and modify the following code. Do not change variable names for testing purposes.\n",
    "\n",
    "def read_densities_join(filename):\n",
    "    \n",
    "    infile = open(filename, 'r')\n",
    "    densities = {}\n",
    "    for line in infile:\n",
    "        words = line.split()\n",
    "        density = float(words[-1])\n",
    "        substance = \"_\".join(words[0:-1])\n",
    "        \n",
    "        densities[substance] = density\n",
    "\n",
    "    infile.close()\n",
    "    \n",
    "    return densities\n",
    "\n",
    "\n",
    "def read_densities_substrings(filename):\n",
    "        \n",
    "    infile = open(filename, 'r')\n",
    "    densities = {}\n",
    "    for line in infile:\n",
    "        density = line[12:].strip()\n",
    "        substance = line[:12].strip()\n",
    "        substance = substance.replace(\" \",\"_\")\n",
    "        \n",
    "        densities[substance] = float(density)\n",
    "\n",
    "    infile.close()\n",
    "    \n",
    "    return densities\n",
    "    \n",
    "densities = read_densities_substrings('data/densities.dat')\n",
    "print(densities)"
   ]
  },
  {
   "cell_type": "code",
   "execution_count": 46,
   "metadata": {
    "execution": {
     "iopub.execute_input": "2021-08-15T13:29:59.633085Z",
     "iopub.status.busy": "2021-08-15T13:29:59.632469Z",
     "iopub.status.idle": "2021-08-15T13:29:59.693552Z",
     "shell.execute_reply": "2021-08-15T13:29:59.693067Z"
    },
    "tags": [
     "pybryt"
    ]
   },
   "outputs": [
    {
     "name": "stdout",
     "output_type": "stream",
     "text": [
      "REFERENCE: exercise-4_4_1\n",
      "SATISFIED: False\n",
      "MESSAGES:\n",
      "  - ERROR: Hmmm... It seems you are either not extracting densities or not adding constants to the dictionary.\n",
      "  - SUCCESS: Great! You are iterating through the file line by line.\n",
      "  - ERROR: You did not create an empty dictionary before the loop.\n",
      "  - SUCCESS: You split lines into fragments. Well done!\n",
      "  - SUCCESS: Wow! Your implementation of read_densities_join returns the correct dictionary.\n"
     ]
    }
   ],
   "source": [
    "with pybryt.check(pybryt_reference(4, '4_1')):\n",
    "    read_densities_join('./data/densities.dat')"
   ]
  },
  {
   "cell_type": "code",
   "execution_count": 47,
   "metadata": {
    "execution": {
     "iopub.execute_input": "2021-08-15T13:29:59.698162Z",
     "iopub.status.busy": "2021-08-15T13:29:59.697545Z",
     "iopub.status.idle": "2021-08-15T13:29:59.753200Z",
     "shell.execute_reply": "2021-08-15T13:29:59.752782Z"
    },
    "tags": [
     "pybryt"
    ]
   },
   "outputs": [
    {
     "name": "stdout",
     "output_type": "stream",
     "text": [
      "REFERENCE: exercise-4_4_2\n",
      "SATISFIED: False\n",
      "MESSAGES:\n",
      "  - ERROR: Hmmm... It seems you are either not extracting densities or not adding constants to the dictionary.\n",
      "  - SUCCESS: Great! You are iterating through the file line by line.\n",
      "  - ERROR: You did not create an empty dictionary before the loop.\n",
      "  - SUCCESS: You do not split lines into fragments. Well done!\n",
      "  - SUCCESS: Wow! Your implementation of read_densities_substrings returns the correct dictionary.\n"
     ]
    }
   ],
   "source": [
    "with pybryt.check(pybryt_reference(4, '4_2')):\n",
    "    read_densities_substrings('./data/densities.dat')"
   ]
  },
  {
   "cell_type": "code",
   "execution_count": 48,
   "metadata": {
    "execution": {
     "iopub.execute_input": "2021-08-15T13:29:59.756742Z",
     "iopub.status.busy": "2021-08-15T13:29:59.756303Z",
     "iopub.status.idle": "2021-08-15T13:29:59.777039Z",
     "shell.execute_reply": "2021-08-15T13:29:59.776632Z"
    },
    "tags": [
     "okpy"
    ]
   },
   "outputs": [
    {
     "name": "stdout",
     "output_type": "stream",
     "text": [
      "~~~~~~~~~~~~~~~~~~~~~~~~~~~~~~~~~~~~~~~~~~~~~~~~~~~~~~~~~~~~~~~~~~~~~\n",
      "Running tests\n",
      "\n",
      "---------------------------------------------------------------------\n",
      "Test summary\n",
      "    Passed: 2\n",
      "    Failed: 0\n",
      "[ooooooooook] 100.0% passed\n",
      "\n"
     ]
    },
    {
     "data": {
      "text/plain": [
       "{'passed': 2, 'failed': 0, 'locked': 0}"
      ]
     },
     "execution_count": 48,
     "metadata": {},
     "output_type": "execute_result"
    }
   ],
   "source": [
    "ok.grade('exercise-4_4')"
   ]
  },
  {
   "cell_type": "markdown",
   "metadata": {},
   "source": [
    "## Class: encapsulating variables/data and functions\n",
    "\n",
    "A class encapsulates variables/data and functions into one single unit. As a programmer, you can create a new class and thereby a new **object type** (similar to those you have already encountered - `int`, `float`, `string`, `list`, `file`, etc.). Once you have created a class you can create many instances of that type as you wish, just as you can have many `int` or `float` objects.\n",
    "\n",
    "Modern programming makes heavy use of classes and object orientated programming to manage software complexity, making these important concepts to understand. However, for non-trivial applications the design of good abstractions and classes requires careful consideration, otherwise one can unintentionally increase complexity and hurt the performance of your code. Therefore, you should consider this lecture merely as a gentle introduction illustrated with some simple examples."
   ]
  },
  {
   "cell_type": "markdown",
   "metadata": {},
   "source": [
    "## Representing a function by a class\n",
    "\n",
    "Consider a function of $t$ with a parameter $v_0$:\n",
    "\n",
    "$$ y(t: v_0, g)=v_0t - {1\\over2}gt^2 $$\n",
    "\n",
    "We need both $v_0$, $g$ and $t$ to evaluate $y$. How might we implement this?"
   ]
  },
  {
   "cell_type": "markdown",
   "metadata": {},
   "source": [
    "One option is to assume we will always pass in all variables as arguments:\n",
    "```python\n",
    "def y(t, v0, g=9.81):\n",
    "    return v0*t - 0.5*g*t**2\n",
    "```\n",
    "This looks like a reasonable solution when there are only a couple of parameters. But the software complexity quickly gets out of hand as the number of variables increases (I have worked on legacy codes that had function argument lists that were hundreds of lines long because there was no notion of encapsulation!)\n",
    "\n",
    "Alternatively we might define `v0` and `g` as global variables:\n",
    "```python\n",
    "g = 9.81\n",
    "v0 = ...\n",
    "\n",
    "...\n",
    "\n",
    "def y(t):\n",
    "    return v0*t - 0.5*g*t**2\n",
    "```\n",
    "However, the use of global variables is strongly discouraged for many reasons, e.g. very error prone, increased risk of namespace pollution (variables being clobbered when you import a Python module), makes it difficult to manage instances where there might be multiple values for the global variable within the same context, etc."
   ]
  },
  {
   "cell_type": "markdown",
   "metadata": {},
   "source": [
    "Let us look at how we might instead implement this as a class.\n",
    "\n",
    "While we will not cover it in detail here, it is worth noting that professional developers often use [UML (Unified Modeling Language)](http://en.wikipedia.org/wiki/Unified_Modeling_Language) to illustrate the design of a class. Here is a UML diagram for this example:\n",
    "\n",
    "![Simple UML example](https://github.com/ggorman/Introduction-to-programming-for-geoscientists/raw/master/notebook/images/class_Y_UML.png)\n",
    "\n",
    "For this example `class Y` for $y(t: v_0, g)$ has variables `v0` and `g` and a function `value` for computing $y(t: v_0, g)$. Often classes also have the special function `__init__` for initialising class variables.\n",
    "\n",
    "Here is an implementation of this class:"
   ]
  },
  {
   "cell_type": "code",
   "execution_count": 49,
   "metadata": {
    "execution": {
     "iopub.execute_input": "2021-08-15T13:29:59.794900Z",
     "iopub.status.busy": "2021-08-15T13:29:59.793843Z",
     "iopub.status.idle": "2021-08-15T13:29:59.798499Z",
     "shell.execute_reply": "2021-08-15T13:29:59.798048Z"
    }
   },
   "outputs": [],
   "source": [
    "class Y:\n",
    "    def __init__(self, v0, g=9.81):\n",
    "        self.v0 = v0\n",
    "        self.g = g\n",
    "\n",
    "    def value(self, t):\n",
    "        return self.v0*t - 0.5*self.g*t**2"
   ]
  },
  {
   "cell_type": "markdown",
   "metadata": {},
   "source": [
    "An example of its usage: "
   ]
  },
  {
   "cell_type": "code",
   "execution_count": 50,
   "metadata": {
    "execution": {
     "iopub.execute_input": "2021-08-15T13:29:59.803291Z",
     "iopub.status.busy": "2021-08-15T13:29:59.802732Z",
     "iopub.status.idle": "2021-08-15T13:29:59.809986Z",
     "shell.execute_reply": "2021-08-15T13:29:59.809510Z"
    }
   },
   "outputs": [
    {
     "name": "stdout",
     "output_type": "stream",
     "text": [
      "0.25095\n"
     ]
    }
   ],
   "source": [
    "y = Y(v0=3)       # Create instance\n",
    "v = y.value(0.1)  # Compute function value\n",
    "\n",
    "print(v)"
   ]
  },
  {
   "cell_type": "markdown",
   "metadata": {},
   "source": [
    "When we write `y = Y(v0=3)` we create a new *instance* of *type `Y`*.\n",
    "\n",
    "`Y(3)` is a call to the constructor:\n",
    "\n",
    "```python\n",
    "def __init__(self, v0, g=9.81):\n",
    "    self.v0 = v0\n",
    "    self.g = g\n",
    "```"
   ]
  },
  {
   "cell_type": "markdown",
   "metadata": {},
   "source": [
    "Think of `self` as `y`, i.e. the new variable to be created. `self.v0` means that we attach a variable `v0` to self (`y`).\n",
    "\n",
    "```python\n",
    "Y.__init__(y, 3)   # is the logic behind Y(3)\n",
    "```\n",
    "\n",
    "`self` is always the first argument/parameter in a function, but **never** inserted in the call! After `y = Y(3)`, `y` has two variables `v0` and `g`, and we can take a look at these:"
   ]
  },
  {
   "cell_type": "code",
   "execution_count": 51,
   "metadata": {
    "execution": {
     "iopub.execute_input": "2021-08-15T13:29:59.816050Z",
     "iopub.status.busy": "2021-08-15T13:29:59.815467Z",
     "iopub.status.idle": "2021-08-15T13:29:59.820664Z",
     "shell.execute_reply": "2021-08-15T13:29:59.820157Z"
    }
   },
   "outputs": [
    {
     "name": "stdout",
     "output_type": "stream",
     "text": [
      "3\n",
      "9.81\n"
     ]
    }
   ],
   "source": [
    "print(y.v0)\n",
    "print(y.g)"
   ]
  },
  {
   "cell_type": "markdown",
   "metadata": {},
   "source": [
    "Functions in classes are called **methods**. Variables in classes are called **attributes**. Therefore, in the above example the `value` *method* was\n",
    "\n",
    "```python\n",
    "def value(self, t):\n",
    "  return self.v0*t - 0.5*self.g*t**2\n",
    "```"
   ]
  },
  {
   "cell_type": "markdown",
   "metadata": {},
   "source": [
    "Example on a call:"
   ]
  },
  {
   "cell_type": "code",
   "execution_count": 52,
   "metadata": {
    "execution": {
     "iopub.execute_input": "2021-08-15T13:29:59.826305Z",
     "iopub.status.busy": "2021-08-15T13:29:59.824977Z",
     "iopub.status.idle": "2021-08-15T13:29:59.827113Z",
     "shell.execute_reply": "2021-08-15T13:29:59.827516Z"
    }
   },
   "outputs": [],
   "source": [
    "v = y.value(t=0.1)"
   ]
  },
  {
   "cell_type": "markdown",
   "metadata": {},
   "source": [
    "`self` is left out in the call (as discussed above), but Python automatically inserts `y` as the `self` argument inside the `value` method. Inside the `value` *method* things *appear* as\n",
    "\n",
    "```python\n",
    "return y.v0*t - 0.5*y.g*t**2\n",
    "```"
   ]
  },
  {
   "cell_type": "markdown",
   "metadata": {},
   "source": [
    "The method `value` has, through `self`, access to the attributes. Attributes are like *global variables* in the class, and any method gets a `self` parameter as its first argument. The method can then access the attributes of the class through `self`."
   ]
  },
  {
   "cell_type": "markdown",
   "metadata": {},
   "source": [
    "In summary, `class Y` collects the attributes `v0` and `g` and the method `value` together as a single unit. `value(t)` is function of `t` only, but has access to the class attributes `v0` and `g`.\n",
    "\n",
    "The great feature of Python is that we can send `y.value` as an ordinary function of `t` to any other function that expects a function `f(t)`:"
   ]
  },
  {
   "cell_type": "code",
   "execution_count": 53,
   "metadata": {
    "execution": {
     "iopub.execute_input": "2021-08-15T13:29:59.834027Z",
     "iopub.status.busy": "2021-08-15T13:29:59.832635Z",
     "iopub.status.idle": "2021-08-15T13:29:59.834910Z",
     "shell.execute_reply": "2021-08-15T13:29:59.835330Z"
    }
   },
   "outputs": [],
   "source": [
    "import numpy as np\n",
    "\n",
    "\n",
    "def table(f, tstop, n):\n",
    "    \"\"\"Make a table of t, f(t) values.\"\"\"\n",
    "    for t in np.linspace(0, tstop, n):\n",
    "        print(t, f(t))"
   ]
  },
  {
   "cell_type": "code",
   "execution_count": 54,
   "metadata": {
    "execution": {
     "iopub.execute_input": "2021-08-15T13:29:59.844964Z",
     "iopub.status.busy": "2021-08-15T13:29:59.844308Z",
     "iopub.status.idle": "2021-08-15T13:29:59.861862Z",
     "shell.execute_reply": "2021-08-15T13:29:59.857828Z"
    }
   },
   "outputs": [
    {
     "name": "stdout",
     "output_type": "stream",
     "text": [
      "0.0 0.0\n",
      "1.5707963267948966 0.20787957635076193\n",
      "3.141592653589793 5.292178668034404e-18\n",
      "4.71238898038469 -0.008983291021129429\n",
      "6.283185307179586 -4.573915527954357e-19\n"
     ]
    }
   ],
   "source": [
    "def g(t):\n",
    "    return np.sin(t)*np.exp(-t)\n",
    "\n",
    "\n",
    "table(g, 2*np.pi, 5)  # pass in ordinary function as first argument"
   ]
  },
  {
   "cell_type": "code",
   "execution_count": 55,
   "metadata": {
    "execution": {
     "iopub.execute_input": "2021-08-15T13:29:59.866692Z",
     "iopub.status.busy": "2021-08-15T13:29:59.866193Z",
     "iopub.status.idle": "2021-08-15T13:29:59.880386Z",
     "shell.execute_reply": "2021-08-15T13:29:59.878267Z"
    }
   },
   "outputs": [
    {
     "name": "stdout",
     "output_type": "stream",
     "text": [
      "0.0 0.0\n",
      "1.5707963267948966 -1.892426272668997\n",
      "3.141592653589793 -27.990057339009645\n",
      "4.71238898038469 -78.29289319902196\n",
      "6.283185307179586 -152.8009338527059\n"
     ]
    }
   ],
   "source": [
    "y = Y(6.5)\n",
    "table(y.value, 2*np.pi, 5)  # pass in class method as first argument"
   ]
  },
  {
   "cell_type": "markdown",
   "metadata": {},
   "source": [
    "## Exercise 4.5: Make a class for function evaluation.\n",
    "Make a class called `F` that implements the function\n",
    "\n",
    "$$f(x: a, w) = e^{−ax}\\sin(wx).$$\n",
    "\n",
    "A `value(x)` method computes values of $f$ for a given $x$, while $a$ and $w$ are class attributes as specified as arguments in the class's `__init__` method."
   ]
  },
  {
   "cell_type": "code",
   "execution_count": 56,
   "metadata": {
    "execution": {
     "iopub.execute_input": "2021-08-15T13:29:59.884365Z",
     "iopub.status.busy": "2021-08-15T13:29:59.883815Z",
     "iopub.status.idle": "2021-08-15T13:29:59.887423Z",
     "shell.execute_reply": "2021-08-15T13:29:59.887006Z"
    }
   },
   "outputs": [],
   "source": [
    "# Uncomment and complete this code - keep the names the same for testing purposes.\n",
    "\n",
    "class F:\n",
    "    def __init__(self, a, w):\n",
    "        self.a = a\n",
    "        self.w = w\n",
    "\n",
    "    def value(self, x):\n",
    "        return np.exp(-self.a * x) * np.sin(self.w * x)"
   ]
  },
  {
   "cell_type": "code",
   "execution_count": 57,
   "metadata": {
    "execution": {
     "iopub.execute_input": "2021-08-15T13:29:59.901925Z",
     "iopub.status.busy": "2021-08-15T13:29:59.899862Z",
     "iopub.status.idle": "2021-08-15T13:29:59.916573Z",
     "shell.execute_reply": "2021-08-15T13:29:59.915950Z"
    },
    "tags": [
     "pybryt"
    ]
   },
   "outputs": [
    {
     "name": "stdout",
     "output_type": "stream",
     "text": [
      "REFERENCE: exercise-4_5\n",
      "SATISFIED: True\n",
      "MESSAGES:\n",
      "  - SUCCESS: You initialise the attribute a correctly. Well done!\n",
      "  - SUCCESS: You initialise the attribute w correctly. Well done!\n",
      "  - SUCCESS: Wow! Your implementation of the value method is correct.\n"
     ]
    }
   ],
   "source": [
    "with pybryt.check(pybryt_reference(4, 5)):\n",
    "    f = F(0.73, 1.14185)\n",
    "    f.a, f.w, f.value(3)"
   ]
  },
  {
   "cell_type": "code",
   "execution_count": 58,
   "metadata": {
    "execution": {
     "iopub.execute_input": "2021-08-15T13:29:59.923872Z",
     "iopub.status.busy": "2021-08-15T13:29:59.923254Z",
     "iopub.status.idle": "2021-08-15T13:29:59.939911Z",
     "shell.execute_reply": "2021-08-15T13:29:59.939471Z"
    },
    "tags": [
     "okpy"
    ]
   },
   "outputs": [
    {
     "name": "stdout",
     "output_type": "stream",
     "text": [
      "~~~~~~~~~~~~~~~~~~~~~~~~~~~~~~~~~~~~~~~~~~~~~~~~~~~~~~~~~~~~~~~~~~~~~\n",
      "Running tests\n",
      "\n",
      "---------------------------------------------------------------------\n",
      "Test summary\n",
      "    Passed: 1\n",
      "    Failed: 0\n",
      "[ooooooooook] 100.0% passed\n",
      "\n"
     ]
    },
    {
     "data": {
      "text/plain": [
       "{'passed': 1, 'failed': 0, 'locked': 0}"
      ]
     },
     "execution_count": 58,
     "metadata": {},
     "output_type": "execute_result"
    }
   ],
   "source": [
    "ok.grade('exercise-4_5')"
   ]
  },
  {
   "cell_type": "markdown",
   "metadata": {},
   "source": [
    "## Exercise 4.6: Make a simple class\n",
    "\n",
    "Make a class called `Simple` with:\n",
    "* one attribute, `i`,\n",
    "* one method `double` that replaces the value of `i` by `2*i`, and\n",
    "* an `__init__` method that initializes the attribute `i`. \n",
    "\n",
    "Use the following code snippet to convince yourself that your class is behaving as expected.\n",
    "\n",
    "```python\n",
    "s1 = Simple(4)\n",
    "for i in range(4):\n",
    "    s1.double()\n",
    "print(s1.i)\n",
    "\n",
    "s2 = Simple('Hello')\n",
    "s2.double(); s2.double()\n",
    "print(s2.i)\n",
    "s2.i = 100\n",
    "print(s2.i)\n",
    "```"
   ]
  },
  {
   "cell_type": "code",
   "execution_count": 59,
   "metadata": {
    "execution": {
     "iopub.execute_input": "2021-08-15T13:29:59.954335Z",
     "iopub.status.busy": "2021-08-15T13:29:59.953823Z",
     "iopub.status.idle": "2021-08-15T13:29:59.957754Z",
     "shell.execute_reply": "2021-08-15T13:29:59.958160Z"
    }
   },
   "outputs": [],
   "source": [
    "# Uncomment and complete this code - keep the names the same for testing purposes.\n",
    "\n",
    "class Simple:\n",
    "    def __init__(self, i):\n",
    "        self.i = i\n",
    "\n",
    "    def double(self):\n",
    "        self.i *= 2\n"
   ]
  },
  {
   "cell_type": "code",
   "execution_count": 60,
   "metadata": {
    "execution": {
     "iopub.execute_input": "2021-08-15T13:29:59.969110Z",
     "iopub.status.busy": "2021-08-15T13:29:59.968704Z",
     "iopub.status.idle": "2021-08-15T13:30:00.011546Z",
     "shell.execute_reply": "2021-08-15T13:30:00.011952Z"
    },
    "tags": [
     "pybryt"
    ]
   },
   "outputs": [
    {
     "name": "stdout",
     "output_type": "stream",
     "text": [
      "REFERENCE: exercise-4_6\n",
      "SATISFIED: True\n",
      "MESSAGES:\n",
      "  - SUCCESS: Your implementation of double method is correct. Well done!\n",
      "  - SUCCESS: You initialise the attribute a correctly. Well done!\n",
      "  - SUCCESS: Wow! Your implementation of class Simple is correct.\n"
     ]
    }
   ],
   "source": [
    "with pybryt.check(pybryt_reference(4, 6)):\n",
    "    simple = Simple(200.51)\n",
    "    simple.i\n",
    "    for k in range(10):\n",
    "        simple.double()\n",
    "        simple.i"
   ]
  },
  {
   "cell_type": "code",
   "execution_count": 61,
   "metadata": {
    "execution": {
     "iopub.execute_input": "2021-08-15T13:30:00.019355Z",
     "iopub.status.busy": "2021-08-15T13:30:00.018753Z",
     "iopub.status.idle": "2021-08-15T13:30:00.045650Z",
     "shell.execute_reply": "2021-08-15T13:30:00.045140Z"
    },
    "tags": [
     "okpy"
    ]
   },
   "outputs": [
    {
     "name": "stdout",
     "output_type": "stream",
     "text": [
      "~~~~~~~~~~~~~~~~~~~~~~~~~~~~~~~~~~~~~~~~~~~~~~~~~~~~~~~~~~~~~~~~~~~~~\n",
      "Running tests\n",
      "\n",
      "---------------------------------------------------------------------\n",
      "Test summary\n",
      "    Passed: 2\n",
      "    Failed: 0\n",
      "[ooooooooook] 100.0% passed\n",
      "\n"
     ]
    },
    {
     "data": {
      "text/plain": [
       "{'passed': 2, 'failed': 0, 'locked': 0}"
      ]
     },
     "execution_count": 61,
     "metadata": {},
     "output_type": "execute_result"
    }
   ],
   "source": [
    "ok.grade('exercise-4_6')"
   ]
  },
  {
   "cell_type": "markdown",
   "metadata": {},
   "source": [
    "## Another class example: a bank account\n",
    "\n",
    "* **Attributes**:\n",
    "    * `name`: name of the owner\n",
    "    * `number`: account number\n",
    "    * `balance`: balance\n",
    "* **Methods**:\n",
    "    * `deposit`: adds amount to `balance`\n",
    "    * `withdraw`: subtracts amount from `balance`\n",
    "    * `dump`: pretty pring"
   ]
  },
  {
   "cell_type": "code",
   "execution_count": 62,
   "metadata": {
    "execution": {
     "iopub.execute_input": "2021-08-15T13:30:00.062796Z",
     "iopub.status.busy": "2021-08-15T13:30:00.061048Z",
     "iopub.status.idle": "2021-08-15T13:30:00.063560Z",
     "shell.execute_reply": "2021-08-15T13:30:00.063948Z"
    }
   },
   "outputs": [],
   "source": [
    "class Account:\n",
    "    def __init__(self, name, account_number, initial_amount=0):\n",
    "        self.name = name\n",
    "        self.number = account_number\n",
    "        self.balance = initial_amount\n",
    "\n",
    "    def deposit(self, amount):\n",
    "        self.balance += amount  # self.balance += amount is equivalent to self.balance = self.balance + amount\n",
    "\n",
    "    def withdraw(self, amount):\n",
    "        self.balance -= amount  # self.balance -= amount is equivalent to self.balance = self.balance - amount\n",
    "\n",
    "    def dump(self):\n",
    "        print(f'name: {self.name}, account number: {self.number}, balance: {self.balance}')"
   ]
  },
  {
   "cell_type": "code",
   "execution_count": 63,
   "metadata": {
    "execution": {
     "iopub.execute_input": "2021-08-15T13:30:00.071247Z",
     "iopub.status.busy": "2021-08-15T13:30:00.069435Z",
     "iopub.status.idle": "2021-08-15T13:30:00.071993Z",
     "shell.execute_reply": "2021-08-15T13:30:00.072464Z"
    }
   },
   "outputs": [],
   "source": [
    "a1 = Account('John Olsson', '19371554951')\n",
    "a2 = Account('Liz Olsson', '19371564761', 20000)\n",
    "a1.deposit(1000)\n",
    "a1.withdraw(4000)\n",
    "a2.withdraw(10500)\n",
    "a1.withdraw(3500)"
   ]
  },
  {
   "cell_type": "code",
   "execution_count": 64,
   "metadata": {
    "execution": {
     "iopub.execute_input": "2021-08-15T13:30:00.077585Z",
     "iopub.status.busy": "2021-08-15T13:30:00.077026Z",
     "iopub.status.idle": "2021-08-15T13:30:00.083872Z",
     "shell.execute_reply": "2021-08-15T13:30:00.083380Z"
    }
   },
   "outputs": [
    {
     "name": "stdout",
     "output_type": "stream",
     "text": [
      "name: John Olsson, account number: 19371554951, balance: -6500\n"
     ]
    }
   ],
   "source": [
    "a1.dump()"
   ]
  },
  {
   "cell_type": "code",
   "execution_count": 65,
   "metadata": {
    "execution": {
     "iopub.execute_input": "2021-08-15T13:30:00.091312Z",
     "iopub.status.busy": "2021-08-15T13:30:00.090342Z",
     "iopub.status.idle": "2021-08-15T13:30:00.094598Z",
     "shell.execute_reply": "2021-08-15T13:30:00.094147Z"
    }
   },
   "outputs": [
    {
     "name": "stdout",
     "output_type": "stream",
     "text": [
      "name: Liz Olsson, account number: 19371564761, balance: 9500\n"
     ]
    }
   ],
   "source": [
    "a2.dump()"
   ]
  },
  {
   "cell_type": "markdown",
   "metadata": {},
   "source": [
    "## Exercise 4.7: Extend a class\n",
    "\n",
    "Add an attribute called `transactions` to the `Account` class given above. The new attribute counts the number of transactions done in the `deposit` and `withdraw` methods. The total number of transactions should be printed in the `dump` method. Write a simple test program to convince yourself transaction gets the right value after some calls to `deposit` and `withdraw`. When an object of class `Account` is created, attribute `transactions` is initialised to 0."
   ]
  },
  {
   "cell_type": "code",
   "execution_count": 66,
   "metadata": {
    "execution": {
     "iopub.execute_input": "2021-08-15T13:30:00.099088Z",
     "iopub.status.busy": "2021-08-15T13:30:00.098566Z",
     "iopub.status.idle": "2021-08-15T13:30:00.103098Z",
     "shell.execute_reply": "2021-08-15T13:30:00.102655Z"
    }
   },
   "outputs": [],
   "source": [
    "# Uncomment and complete this code - keep the names the same for testing purposes.\n",
    "\n",
    "class Account:\n",
    "    def __init__(self, name, account_number, initial_amount=0):\n",
    "        self.name = name\n",
    "        self.number = account_number\n",
    "        self.balance = initial_amount\n",
    "        self.transactions = 0\n",
    "\n",
    "    def deposit(self, amount):\n",
    "        self.balance += amount\n",
    "        self.transactions +=1\n",
    "\n",
    "    def withdraw(self, amount):\n",
    "        self.balance -= amount\n",
    "        self.transactions +=1\n",
    "        \n",
    "    def dump(self):\n",
    "        print(f'name: {self.name}, account number: {self.number}, balance: {self.balance}, transactions: {self.transactions}')"
   ]
  },
  {
   "cell_type": "code",
   "execution_count": 67,
   "metadata": {
    "execution": {
     "iopub.execute_input": "2021-08-15T13:30:00.117829Z",
     "iopub.status.busy": "2021-08-15T13:30:00.117340Z",
     "iopub.status.idle": "2021-08-15T13:30:00.196733Z",
     "shell.execute_reply": "2021-08-15T13:30:00.196268Z"
    },
    "tags": [
     "pybryt"
    ]
   },
   "outputs": [
    {
     "name": "stdout",
     "output_type": "stream",
     "text": [
      "REFERENCE: exercise-4_7\n",
      "SATISFIED: True\n",
      "MESSAGES:\n",
      "  - SUCCESS: Amazing! Your implementation of deposit method is correct.\n",
      "  - SUCCESS: Amazing! Your implementation of withdraw method is correct.\n",
      "  - SUCCESS: Wow! You implemented transactions attribute correctly.\n",
      "  - SUCCESS: You initialise the attribute name correctly. Well done!\n",
      "  - SUCCESS: You initialise the attribute number correctly. Well done!\n",
      "  - SUCCESS: You initialise the attribute balance correctly. Well done!\n",
      "  - SUCCESS: You initialise the attribute transactions correctly. Well done!\n"
     ]
    }
   ],
   "source": [
    "with pybryt.check(pybryt_reference(4, 7)):\n",
    "    account = Account('Marijan', '321321321', initial_amount=2351)\n",
    "    account.name, account.number, account.balance, account.transactions\n",
    "\n",
    "    for i in range(5):\n",
    "        account.deposit(1001)\n",
    "        account.balance, account.transactions\n",
    "        account.withdraw(432.3)\n",
    "        account.balance, account.transactions"
   ]
  },
  {
   "cell_type": "code",
   "execution_count": 68,
   "metadata": {
    "execution": {
     "iopub.execute_input": "2021-08-15T13:30:00.203941Z",
     "iopub.status.busy": "2021-08-15T13:30:00.203304Z",
     "iopub.status.idle": "2021-08-15T13:30:00.229905Z",
     "shell.execute_reply": "2021-08-15T13:30:00.229465Z"
    },
    "tags": [
     "okpy"
    ]
   },
   "outputs": [
    {
     "name": "stdout",
     "output_type": "stream",
     "text": [
      "~~~~~~~~~~~~~~~~~~~~~~~~~~~~~~~~~~~~~~~~~~~~~~~~~~~~~~~~~~~~~~~~~~~~~\n",
      "Running tests\n",
      "\n",
      "---------------------------------------------------------------------\n",
      "Test summary\n",
      "    Passed: 2\n",
      "    Failed: 0\n",
      "[ooooooooook] 100.0% passed\n",
      "\n"
     ]
    },
    {
     "data": {
      "text/plain": [
       "{'passed': 2, 'failed': 0, 'locked': 0}"
      ]
     },
     "execution_count": 68,
     "metadata": {},
     "output_type": "execute_result"
    }
   ],
   "source": [
    "ok.grade('exercise-4_7')"
   ]
  },
  {
   "cell_type": "markdown",
   "metadata": {},
   "source": [
    "## Protecting attributes\n",
    "\n",
    "It is not possible in Python to explicitly protect attributes from being overwritten by the calling function, i.e. the following is possible but not intended:"
   ]
  },
  {
   "cell_type": "code",
   "execution_count": 69,
   "metadata": {
    "execution": {
     "iopub.execute_input": "2021-08-15T13:30:00.247259Z",
     "iopub.status.busy": "2021-08-15T13:30:00.246759Z",
     "iopub.status.idle": "2021-08-15T13:30:00.250480Z",
     "shell.execute_reply": "2021-08-15T13:30:00.250877Z"
    }
   },
   "outputs": [],
   "source": [
    "a1.name = 'Some other name'\n",
    "a1.balance = 100000\n",
    "a1.no = '19371564768'"
   ]
  },
  {
   "cell_type": "markdown",
   "metadata": {},
   "source": [
    "**Assumptions** on correct usage include:\n",
    "\n",
    "* The attributes should not be modified directly.\n",
    "* The `balance` attribute can be viewed.\n",
    "* Changing `balance` is done through with the methods `draw` and `deposit`.\n",
    "\n",
    "The remedy is to adopt the convention that attributes and methods not intended for use outside the class should be marked as protected by prefixing the name with an underscore (e.g. `_name`). This is just a convention to warn you to stay away from messing with the attribute directly. There is no technical way of stopping attributes and methods from being accessed directly from outside the class.\n",
    "\n",
    "We rewrite the account class using this convention:"
   ]
  },
  {
   "cell_type": "code",
   "execution_count": 70,
   "metadata": {
    "execution": {
     "iopub.execute_input": "2021-08-15T13:30:00.257678Z",
     "iopub.status.busy": "2021-08-15T13:30:00.256568Z",
     "iopub.status.idle": "2021-08-15T13:30:00.258800Z",
     "shell.execute_reply": "2021-08-15T13:30:00.259220Z"
    }
   },
   "outputs": [],
   "source": [
    "class AccountP:\n",
    "    def __init__(self, name, account_number, initial_amount):\n",
    "        self._name = name\n",
    "        self._no = account_number\n",
    "        self._balance = initial_amount\n",
    "\n",
    "    def deposit(self, amount):\n",
    "        self._balance += amount\n",
    "\n",
    "    def withdraw(self, amount):\n",
    "        self._balance -= amount\n",
    "\n",
    "    def get_balance(self):    # NEW - read balance value\n",
    "        return self._balance\n",
    "\n",
    "    def dump(self):\n",
    "        s = '%s, %s, balance: %s' % (self._name, self._no, self._balance)\n",
    "        print(s)"
   ]
  },
  {
   "cell_type": "code",
   "execution_count": 71,
   "metadata": {
    "execution": {
     "iopub.execute_input": "2021-08-15T13:30:00.264345Z",
     "iopub.status.busy": "2021-08-15T13:30:00.263255Z",
     "iopub.status.idle": "2021-08-15T13:30:00.265736Z",
     "shell.execute_reply": "2021-08-15T13:30:00.265281Z"
    }
   },
   "outputs": [],
   "source": [
    "a1 = AccountP('John Olsson', '19371554951', 20000)\n",
    "a1.withdraw(4000)"
   ]
  },
  {
   "cell_type": "code",
   "execution_count": 72,
   "metadata": {
    "execution": {
     "iopub.execute_input": "2021-08-15T13:30:00.271351Z",
     "iopub.status.busy": "2021-08-15T13:30:00.270781Z",
     "iopub.status.idle": "2021-08-15T13:30:00.274567Z",
     "shell.execute_reply": "2021-08-15T13:30:00.274155Z"
    }
   },
   "outputs": [
    {
     "name": "stdout",
     "output_type": "stream",
     "text": [
      "16000\n"
     ]
    }
   ],
   "source": [
    "print(a1._balance)      # it works, but a convention is broken"
   ]
  },
  {
   "cell_type": "code",
   "execution_count": 73,
   "metadata": {
    "execution": {
     "iopub.execute_input": "2021-08-15T13:30:00.280084Z",
     "iopub.status.busy": "2021-08-15T13:30:00.279554Z",
     "iopub.status.idle": "2021-08-15T13:30:00.283136Z",
     "shell.execute_reply": "2021-08-15T13:30:00.282730Z"
    }
   },
   "outputs": [
    {
     "name": "stdout",
     "output_type": "stream",
     "text": [
      "16000\n"
     ]
    }
   ],
   "source": [
    "print(a1.get_balance())  # correct way of viewing the balance"
   ]
  },
  {
   "cell_type": "code",
   "execution_count": 74,
   "metadata": {
    "execution": {
     "iopub.execute_input": "2021-08-15T13:30:00.288326Z",
     "iopub.status.busy": "2021-08-15T13:30:00.287154Z",
     "iopub.status.idle": "2021-08-15T13:30:00.289378Z",
     "shell.execute_reply": "2021-08-15T13:30:00.289807Z"
    }
   },
   "outputs": [],
   "source": [
    "a1._no = '19371554955'  # if you did this you'd probably lose your job! Don't mess with the convention."
   ]
  },
  {
   "cell_type": "markdown",
   "metadata": {},
   "source": [
    "### Example - a phone book\n",
    "\n",
    "A phone book is a list of data about persons. Typical data includes: name, mobile phone, office phone, private phone, email. This data about a person can be  collected in a class as **attributes**. Think about what kinds of **methods** make sense for this class, e.g.:\n",
    "\n",
    "* Constructor for initializing name, plus one or more other data\n",
    "* Add new mobile number\n",
    "* Add new office number\n",
    "* Add new private number\n",
    "* Add new email\n",
    "* Write out person data"
   ]
  },
  {
   "cell_type": "code",
   "execution_count": 75,
   "metadata": {
    "execution": {
     "iopub.execute_input": "2021-08-15T13:30:00.297928Z",
     "iopub.status.busy": "2021-08-15T13:30:00.296891Z",
     "iopub.status.idle": "2021-08-15T13:30:00.299401Z",
     "shell.execute_reply": "2021-08-15T13:30:00.298938Z"
    }
   },
   "outputs": [],
   "source": [
    "class Person:\n",
    "    def __init__(self, name, mobile_phone=None, office_phone=None, private_phone=None, email=None):\n",
    "        self.name = name\n",
    "        self.mobile = mobile_phone\n",
    "        self.office = office_phone\n",
    "        self.private = private_phone\n",
    "        self.email = email\n",
    "\n",
    "    def add_mobile_phone(self, number):\n",
    "        self.mobile = number\n",
    "\n",
    "    def add_office_phone(self, number):\n",
    "        self.office = number\n",
    "\n",
    "    def add_private_phone(self, number):\n",
    "        self.private = number\n",
    "\n",
    "    def add_email(self, address):\n",
    "        self.email = address\n",
    "\n",
    "    def dump(self):\n",
    "        s = self.name + '\\n'\n",
    "        if self.mobile is not None:\n",
    "            s += 'mobile phone:   %s\\n' % self.mobile\n",
    "        if self.office is not None:\n",
    "            s += 'office phone:   %s\\n' % self.office\n",
    "        if self.private is not None:\n",
    "            s += 'private phone:  %s\\n' % self.private\n",
    "        if self.email is not None:\n",
    "            s += 'email address:  %s\\n' % self.email\n",
    "        print(s)"
   ]
  },
  {
   "cell_type": "code",
   "execution_count": 76,
   "metadata": {
    "execution": {
     "iopub.execute_input": "2021-08-15T13:30:00.305598Z",
     "iopub.status.busy": "2021-08-15T13:30:00.305019Z",
     "iopub.status.idle": "2021-08-15T13:30:00.313964Z",
     "shell.execute_reply": "2021-08-15T13:30:00.313449Z"
    }
   },
   "outputs": [
    {
     "name": "stdout",
     "output_type": "stream",
     "text": [
      "Gerard Gorman\n",
      "office phone:   49985\n",
      "email address:  g.gorman@imperial.ac.uk\n",
      "\n",
      "ICT Service Desk\n",
      "office phone:   49000\n",
      "email address:  service.desk@imperial.ac.uk\n",
      "\n"
     ]
    }
   ],
   "source": [
    "p1 = Person('Gerard Gorman', email='g.gorman@imperial.ac.uk')\n",
    "p1.add_office_phone('49985')\n",
    "\n",
    "p2 = Person('ICT Service Desk', office_phone='49000')\n",
    "p2.add_email('service.desk@imperial.ac.uk')\n",
    "\n",
    "phone_book = {'Gorman': p1, 'ICT': p2}\n",
    "for p in phone_book:\n",
    "    phone_book[p].dump()"
   ]
  },
  {
   "cell_type": "markdown",
   "metadata": {},
   "source": [
    "### Example - a circle\n",
    "A circle is defined by its center point $x_0$, $y_0$ and its radius $R$. These data can be attributes in a class. Possible methods in the class are `area` and `circumference`. The constructor initializes $x_0$, $y_0$ and $R$."
   ]
  },
  {
   "cell_type": "code",
   "execution_count": 77,
   "metadata": {
    "execution": {
     "iopub.execute_input": "2021-08-15T13:30:00.320358Z",
     "iopub.status.busy": "2021-08-15T13:30:00.319093Z",
     "iopub.status.idle": "2021-08-15T13:30:00.321163Z",
     "shell.execute_reply": "2021-08-15T13:30:00.321581Z"
    }
   },
   "outputs": [],
   "source": [
    "class Circle:\n",
    "    def __init__(self, R, x0, y0,):\n",
    "        self.x0, self.y0, self.R = x0, y0, R\n",
    "\n",
    "    def area(self):\n",
    "        return np.pi * self.R**2\n",
    "\n",
    "    def circumference(self):\n",
    "        return 2*np.pi*self.R"
   ]
  },
  {
   "cell_type": "code",
   "execution_count": 78,
   "metadata": {
    "execution": {
     "iopub.execute_input": "2021-08-15T13:30:00.327937Z",
     "iopub.status.busy": "2021-08-15T13:30:00.327351Z",
     "iopub.status.idle": "2021-08-15T13:30:00.331291Z",
     "shell.execute_reply": "2021-08-15T13:30:00.330869Z"
    }
   },
   "outputs": [
    {
     "name": "stdout",
     "output_type": "stream",
     "text": [
      "A circle with radius 2 at (-1, 5) has area 12.5664\n"
     ]
    }
   ],
   "source": [
    "c = Circle(2, -1, 5)\n",
    "print('A circle with radius %g at (%g, %g) has area %g' % (c.R, c.x0, c.y0, c.area()))"
   ]
  },
  {
   "cell_type": "markdown",
   "metadata": {},
   "source": [
    "## Exercise 4.8: Make a class for straight lines\n",
    "\n",
    "Make a class called `Line` whose constructor takes two points `p0` and `p1` (2-tuples or 2-lists) as input. The line goes through these two points (see function `line` defined below for the relevant formula of the line). A `value(x)` method computes the `y` value on the line at the point `x` or returns `None` if the line is vertical (i.e. if `(x1-x0) == 0`).\n",
    "\n",
    "```python\n",
    "def line(x0, y0, x1, y1):\n",
    "    \"\"\"\n",
    "    Compute the coefficients a and b in the mathematical\n",
    "    expression for a straight line y = a*x + b that goes\n",
    "    through two points (x0, y0) and (x1, y1).\n",
    "    x0, y0: a point on the line (floats).\n",
    "    x1, y1: another point on the line (floats).\n",
    "    return: coefficients a, b (floats) for the line (y=a*x+b).\n",
    "    \"\"\"\n",
    "    try:\n",
    "        a = (y1 - y0)/(x1 - x0)\n",
    "        b = y0 - a*x0\n",
    "    except ZeroDivisionError:\n",
    "        a, b = None, None\n",
    "    \n",
    "    return a, b\n",
    "```"
   ]
  },
  {
   "cell_type": "code",
   "execution_count": 79,
   "metadata": {
    "execution": {
     "iopub.execute_input": "2021-08-15T13:30:00.336091Z",
     "iopub.status.busy": "2021-08-15T13:30:00.335034Z",
     "iopub.status.idle": "2021-08-15T13:30:00.337417Z",
     "shell.execute_reply": "2021-08-15T13:30:00.337825Z"
    },
    "tags": [
     "understand"
    ]
   },
   "outputs": [
    {
     "name": "stdout",
     "output_type": "stream",
     "text": [
      "(123.1, 251.6) (44.3, 12.9) -111.77834137055835\n"
     ]
    }
   ],
   "source": [
    "# Uncomment and complete this code - keep the names the same for testing purposes.\n",
    "\n",
    "class Line:\n",
    "    def __init__(self, p0, p1):\n",
    "        self.p0 = p0\n",
    "        self.p1 = p1\n",
    "\n",
    "    def value(self, x):\n",
    "        try:\n",
    "            a = (self.p1[1] - self.p0[1])/(self.p1[0] - self.p0[0])\n",
    "            b = self.p0[1] - a*self.p0[0]\n",
    "            \n",
    "        except ZeroDivisionError:\n",
    "            a, b = None, None\n",
    "        \n",
    "        try:\n",
    "            return a * x + b\n",
    "        \n",
    "        except TypeError:\n",
    "            return None\n",
    "    \n",
    "line = Line(p0=(123.1, 251.6), p1=(44.3, 12.9))\n",
    "print(line.p0, line.p1, line.value(3.141))\n"
   ]
  },
  {
   "cell_type": "code",
   "execution_count": 80,
   "metadata": {
    "execution": {
     "iopub.execute_input": "2021-08-15T13:30:00.352390Z",
     "iopub.status.busy": "2021-08-15T13:30:00.351820Z",
     "iopub.status.idle": "2021-08-15T13:30:00.372877Z",
     "shell.execute_reply": "2021-08-15T13:30:00.372401Z"
    },
    "tags": [
     "pybryt"
    ]
   },
   "outputs": [
    {
     "name": "stdout",
     "output_type": "stream",
     "text": [
      "REFERENCE: exercise-4_8\n",
      "SATISFIED: True\n",
      "MESSAGES:\n",
      "  - SUCCESS: You initialise the attribute p0 correctly. Well done!\n",
      "  - SUCCESS: You initialise the attribute p1 correctly. Well done!\n",
      "  - SUCCESS: Amazing! You compute the coefficient a correctly.\n",
      "  - SUCCESS: Amazing! You compute the coefficient b correctly.\n",
      "  - SUCCESS: Wow! Your implementation of method value correct.\n"
     ]
    }
   ],
   "source": [
    "with pybryt.check(pybryt_reference(4, 8)):\n",
    "    line = Line(p0=(123.1, 251.6), p1=(44.3, 12.9))\n",
    "    line.p0, line.p1, line.value(3.141)"
   ]
  },
  {
   "cell_type": "code",
   "execution_count": 81,
   "metadata": {
    "execution": {
     "iopub.execute_input": "2021-08-15T13:30:00.380724Z",
     "iopub.status.busy": "2021-08-15T13:30:00.380067Z",
     "iopub.status.idle": "2021-08-15T13:30:00.398406Z",
     "shell.execute_reply": "2021-08-15T13:30:00.397909Z"
    },
    "tags": [
     "okpy"
    ]
   },
   "outputs": [
    {
     "name": "stdout",
     "output_type": "stream",
     "text": [
      "~~~~~~~~~~~~~~~~~~~~~~~~~~~~~~~~~~~~~~~~~~~~~~~~~~~~~~~~~~~~~~~~~~~~~\n",
      "Running tests\n",
      "\n",
      "---------------------------------------------------------------------\n",
      "Test summary\n",
      "    Passed: 2\n",
      "    Failed: 0\n",
      "[ooooooooook] 100.0% passed\n",
      "\n"
     ]
    },
    {
     "data": {
      "text/plain": [
       "{'passed': 2, 'failed': 0, 'locked': 0}"
      ]
     },
     "execution_count": 81,
     "metadata": {},
     "output_type": "execute_result"
    }
   ],
   "source": [
    "ok.grade('exercise-4_8')"
   ]
  },
  {
   "cell_type": "markdown",
   "metadata": {},
   "source": [
    "## Exercise 4.9: Make a class for quadratic functions\n",
    "\n",
    "Consider a quadratic function $f(x; a, b, c) = ax^2 + bx + c$. Make a class called `Quadratic` for representing $f$, where $a$, $b$, and $c$ are attributes, and the methods are:\n",
    "\n",
    "1. `value(self, x)` for computing a value of $f$ at a point $x$,\n",
    "2. `table(self, L, R, n)` for writing out a table of $x$ and $f$ values for $n$ values of $x$ in the interval $[L, R]$,\n",
    "3. `roots(self)` for computing the two roots and returning them both in a tuple `(x1, x2)`."
   ]
  },
  {
   "cell_type": "code",
   "execution_count": 82,
   "metadata": {
    "execution": {
     "iopub.execute_input": "2021-08-15T13:30:00.415539Z",
     "iopub.status.busy": "2021-08-15T13:30:00.414973Z",
     "iopub.status.idle": "2021-08-15T13:30:00.418864Z",
     "shell.execute_reply": "2021-08-15T13:30:00.419288Z"
    },
    "tags": [
     "issue"
    ]
   },
   "outputs": [
    {
     "name": "stdout",
     "output_type": "stream",
     "text": [
      "x: 0.0 f: -30.11\n",
      "x: 20.0 f: 4161.89\n",
      "x: 40.0 f: 16513.89\n",
      "x: 60.0 f: 37025.89\n",
      "x: 80.0 f: 65697.89\n",
      "x: 100.0 f: 102529.89\n"
     ]
    },
    {
     "data": {
      "text/plain": [
       "(10.2,\n",
       " 5.6,\n",
       " -30.11,\n",
       " 2552769.89,\n",
       " (-2.0144283125772997, 1.4654087047341624),\n",
       " None)"
      ]
     },
     "execution_count": 82,
     "metadata": {},
     "output_type": "execute_result"
    }
   ],
   "source": [
    "# Uncomment and complete this code - keep the names the same for testing purposes.\n",
    "from numpy import sqrt as sqrt\n",
    "class Quadratic:\n",
    "    def __init__(self, a, b, c):\n",
    "        self.a = a\n",
    "        self.b = b\n",
    "        self.c = c\n",
    "\n",
    "    def value(self, x):\n",
    "        return (self.a * x**2) + (self.b * x) + self.c\n",
    "\n",
    "    def table(self, L, R, n):\n",
    "        interval = np.linspace(L,R,n)\n",
    "        [print(f'x: {x} f: {self.value(x)}') for x in interval]\n",
    "        \n",
    "\n",
    "    def roots(self):\n",
    "        x1 = (- self.b - sqrt(self.b**2 - (4 * self.a * self.c)))/(2 * self.a)\n",
    "        x2 = (- self.b + sqrt(self.b**2 - (4 * self.a * self.c)))/(2 * self.a)\n",
    "        return tuple((x1,x2)) \n",
    "    \n",
    "f = Quadratic(a=10.2, b=5.6, c=-30.11)\n",
    "f.a, f.b, f.c, f.value(500), f.roots(), f.table(0,100,6)"
   ]
  },
  {
   "cell_type": "code",
   "execution_count": 83,
   "metadata": {
    "execution": {
     "iopub.execute_input": "2021-08-15T13:30:00.435636Z",
     "iopub.status.busy": "2021-08-15T13:30:00.434581Z",
     "iopub.status.idle": "2021-08-15T13:30:00.477173Z",
     "shell.execute_reply": "2021-08-15T13:30:00.477588Z"
    },
    "tags": [
     "pybryt"
    ]
   },
   "outputs": [
    {
     "name": "stdout",
     "output_type": "stream",
     "text": [
      "REFERENCE: exercise-4_9\n",
      "SATISFIED: False\n",
      "MESSAGES:\n",
      "  - SUCCESS: You initialise the attribute a correctly. Well done!\n",
      "  - SUCCESS: You initialise the attribute b correctly. Well done!\n",
      "  - SUCCESS: Great! You implemented value method correctly.\n",
      "  - SUCCESS: Your computed root x1 is correct. Amazing!\n",
      "  - SUCCESS: Your computed root x2 is correct. Amazing!\n",
      "  - ERROR: Your implementation of class Quadratic is wrong.\n"
     ]
    }
   ],
   "source": [
    "with pybryt.check(pybryt_reference(4, 9)):\n",
    "    f = Quadratic(a=10.2, b=5.6, c=-30.11)\n",
    "    f.a, f.b, f.c, f.value(500), f.roots()"
   ]
  },
  {
   "cell_type": "code",
   "execution_count": 84,
   "metadata": {
    "execution": {
     "iopub.execute_input": "2021-08-15T13:30:00.482671Z",
     "iopub.status.busy": "2021-08-15T13:30:00.482162Z",
     "iopub.status.idle": "2021-08-15T13:30:00.514048Z",
     "shell.execute_reply": "2021-08-15T13:30:00.513609Z"
    },
    "tags": [
     "okpy"
    ]
   },
   "outputs": [
    {
     "name": "stdout",
     "output_type": "stream",
     "text": [
      "~~~~~~~~~~~~~~~~~~~~~~~~~~~~~~~~~~~~~~~~~~~~~~~~~~~~~~~~~~~~~~~~~~~~~\n",
      "Running tests\n",
      "\n",
      "---------------------------------------------------------------------\n",
      "Test summary\n",
      "    Passed: 1\n",
      "    Failed: 0\n",
      "[ooooooooook] 100.0% passed\n",
      "\n"
     ]
    },
    {
     "data": {
      "text/plain": [
       "{'passed': 1, 'failed': 0, 'locked': 0}"
      ]
     },
     "execution_count": 84,
     "metadata": {},
     "output_type": "execute_result"
    }
   ],
   "source": [
    "ok.grade('exercise-4_9')"
   ]
  },
  {
   "cell_type": "markdown",
   "metadata": {},
   "source": [
    "## Special methods\n",
    "\n",
    "Some class methods have leading and trailing double underscores. You have already met one of these, `__init__` used to initialise an object upon creation. Other examples include `__call__(self, ...)` and `__add__(self, other)`. These *special methods* enable more elegant abstractions and interfaces. Consider for example the difference between the equivalent statements:\n",
    "\n",
    "```python\n",
    "y = Y(4)\n",
    "```\n",
    "rather than\n",
    "```python\n",
    "y = Y\n",
    "Y.__init__(Y, 4)\n",
    "```"
   ]
  },
  {
   "cell_type": "markdown",
   "metadata": {},
   "source": [
    "### Special member function, `__call__`: make the class instance behave and look as a function\n",
    "\n",
    "Let us replace the `value` method in `class Y` by a `__call__` special method:"
   ]
  },
  {
   "cell_type": "code",
   "execution_count": 85,
   "metadata": {
    "execution": {
     "iopub.execute_input": "2021-08-15T13:30:00.541008Z",
     "iopub.status.busy": "2021-08-15T13:30:00.540381Z",
     "iopub.status.idle": "2021-08-15T13:30:00.542707Z",
     "shell.execute_reply": "2021-08-15T13:30:00.542135Z"
    }
   },
   "outputs": [],
   "source": [
    "class Y:\n",
    "    def __init__(self, v0, g=9.81):\n",
    "        self.v0 = v0\n",
    "        self.g = g\n",
    "\n",
    "    def __call__(self, t):\n",
    "        return self.v0*t - 0.5*self.g*t**2"
   ]
  },
  {
   "cell_type": "markdown",
   "metadata": {},
   "source": [
    "Now we can write:"
   ]
  },
  {
   "cell_type": "code",
   "execution_count": 86,
   "metadata": {
    "execution": {
     "iopub.execute_input": "2021-08-15T13:30:00.547428Z",
     "iopub.status.busy": "2021-08-15T13:30:00.546874Z",
     "iopub.status.idle": "2021-08-15T13:30:00.551746Z",
     "shell.execute_reply": "2021-08-15T13:30:00.551235Z"
    }
   },
   "outputs": [],
   "source": [
    "y = Y(3)\n",
    "v = y(0.1)  # same as v = y.__call__(0.1)"
   ]
  },
  {
   "cell_type": "markdown",
   "metadata": {},
   "source": [
    "The instance $y$ behaves/looks as a function! The `value(t)` method in the first example does the same, but the special method `__call__` provides a more elegant and concise syntax for computing function values."
   ]
  },
  {
   "cell_type": "markdown",
   "metadata": {},
   "source": [
    "### Special member function, `__str__`: represent object as a string for printing\n",
    "\n",
    "In Python, we can usually print an object `a` by `print(a)`. This works for built-in types (strings, lists, floats, ...). However, if we have made a new type through a class, Python does not know how to print objects of this type. However, if the class has defined a method `__str__` , Python will use this method to convert the object to a string."
   ]
  },
  {
   "cell_type": "code",
   "execution_count": 87,
   "metadata": {
    "execution": {
     "iopub.execute_input": "2021-08-15T13:30:00.557475Z",
     "iopub.status.busy": "2021-08-15T13:30:00.556899Z",
     "iopub.status.idle": "2021-08-15T13:30:00.563779Z",
     "shell.execute_reply": "2021-08-15T13:30:00.563303Z"
    }
   },
   "outputs": [],
   "source": [
    "class Y:\n",
    "    def __init__(self, v0, g=9.81):\n",
    "        self.v0 = v0\n",
    "        self.g = g\n",
    "\n",
    "    def __call__(self, t):\n",
    "        return self.v0*t - 0.5*self.g*t**2\n",
    "\n",
    "    def __str__(self):\n",
    "        return '%g*t - 0.5*%g*t**2' % (self.v0, self.g)"
   ]
  },
  {
   "cell_type": "code",
   "execution_count": 88,
   "metadata": {
    "execution": {
     "iopub.execute_input": "2021-08-15T13:30:00.568745Z",
     "iopub.status.busy": "2021-08-15T13:30:00.568160Z",
     "iopub.status.idle": "2021-08-15T13:30:00.574691Z",
     "shell.execute_reply": "2021-08-15T13:30:00.575088Z"
    }
   },
   "outputs": [
    {
     "name": "stdout",
     "output_type": "stream",
     "text": [
      "1.5*t - 0.5*9.81*t**2\n"
     ]
    }
   ],
   "source": [
    "y = Y(1.5)\n",
    "print(y)"
   ]
  },
  {
   "cell_type": "markdown",
   "metadata": {},
   "source": [
    "### Special methods for overloading arithmetic operations\n",
    "\n",
    "```python\n",
    "c=a+b               # c = a.__add__(b)  \n",
    "c=a-b               # c = a.__sub__(b)  \n",
    "c = a*b             # c = a.__mul__(b)  \n",
    "c = a/b             # c = a.__div__(b)  \n",
    "c = a**e            # c = a.__pow__(e)\n",
    "```"
   ]
  },
  {
   "cell_type": "markdown",
   "metadata": {},
   "source": [
    "### Special methods for overloading conditional operations\n",
    "\n",
    "```python\n",
    "a == b               #  a.__eq__(b)  \n",
    "a != b               #  a.__ne__(b)  \n",
    "a < b                #  a.__lt__(b)  \n",
    "a <= b               #  a.__le__(b)  \n",
    "a > b                #  a.__gt__(b)  \n",
    "a >= b               #  a.__ge__(b)\n",
    "```"
   ]
  },
  {
   "cell_type": "code",
   "execution_count": 89,
   "metadata": {
    "execution": {
     "iopub.execute_input": "2021-08-15T13:30:00.579994Z",
     "iopub.status.busy": "2021-08-15T13:30:00.579470Z",
     "iopub.status.idle": "2021-08-15T13:30:00.739294Z",
     "shell.execute_reply": "2021-08-15T13:30:00.704684Z"
    },
    "tags": [
     "okpy"
    ]
   },
   "outputs": [
    {
     "name": "stdout",
     "output_type": "stream",
     "text": [
      "~~~~~~~~~~~~~~~~~~~~~~~~~~~~~~~~~~~~~~~~~~~~~~~~~~~~~~~~~~~~~~~~~~~~~\n",
      "Scoring tests\n",
      "\n",
      "---------------------------------------------------------------------\n",
      "question 4.1\n",
      "    Passed: 1\n",
      "    Failed: 0\n",
      "[ooooooooook] 100.0% passed\n",
      "\n",
      "---------------------------------------------------------------------\n",
      "question 4.2\n",
      "    Passed: 1\n",
      "    Failed: 0\n",
      "[ooooooooook] 100.0% passed\n",
      "\n",
      "---------------------------------------------------------------------\n",
      "question 4.3\n",
      "    Passed: 1\n",
      "    Failed: 0\n",
      "[ooooooooook] 100.0% passed\n",
      "\n",
      "---------------------------------------------------------------------\n",
      "question 4.4\n",
      "    Passed: 1\n",
      "    Failed: 0\n",
      "[ooooooooook] 100.0% passed\n",
      "\n",
      "---------------------------------------------------------------------\n",
      "question 4.5\n",
      "    Passed: 1\n",
      "    Failed: 0\n",
      "[ooooooooook] 100.0% passed\n",
      "\n",
      "---------------------------------------------------------------------\n",
      "question 4.6\n",
      "    Passed: 1\n",
      "    Failed: 0\n",
      "[ooooooooook] 100.0% passed\n",
      "\n",
      "---------------------------------------------------------------------\n",
      "question 4.7\n",
      "    Passed: 1\n",
      "    Failed: 0\n",
      "[ooooooooook] 100.0% passed\n",
      "\n",
      "---------------------------------------------------------------------\n",
      "question 4.8\n",
      "    Passed: 1\n",
      "    Failed: 0\n",
      "[ooooooooook] 100.0% passed\n",
      "\n",
      "---------------------------------------------------------------------\n",
      "question 4.9\n",
      "    Passed: 1\n",
      "    Failed: 0\n",
      "[ooooooooook] 100.0% passed\n",
      "\n",
      "---------------------------------------------------------------------\n",
      "Point breakdown\n",
      "    question 4.1: 1.0/1\n",
      "    question 4.2: 1.0/1\n",
      "    question 4.3: 1.0/1\n",
      "    question 4.4: 1.0/1\n",
      "    question 4.5: 1.0/1\n",
      "    question 4.6: 1.0/1\n",
      "    question 4.7: 1.0/1\n",
      "    question 4.8: 1.0/1\n",
      "    question 4.9: 1.0/1\n",
      "\n",
      "Score:\n",
      "    Total: 9.0\n",
      "\n"
     ]
    },
    {
     "data": {
      "text/plain": [
       "{'Total': 9.0}"
      ]
     },
     "execution_count": 89,
     "metadata": {},
     "output_type": "execute_result"
    }
   ],
   "source": [
    "ok.score()"
   ]
  }
 ],
 "metadata": {
  "celltoolbar": "Tags",
  "interpreter": {
   "hash": "c04907a71922e896eb3eabbf39aae5214c9353c0e4e99219a436178ec3041361"
  },
  "kernelspec": {
   "display_name": "Python 3",
   "language": "python",
   "name": "python3"
  },
  "language_info": {
   "codemirror_mode": {
    "name": "ipython",
    "version": 3
   },
   "file_extension": ".py",
   "mimetype": "text/x-python",
   "name": "python",
   "nbconvert_exporter": "python",
   "pygments_lexer": "ipython3",
   "version": "3.8.11"
  }
 },
 "nbformat": 4,
 "nbformat_minor": 4
}
